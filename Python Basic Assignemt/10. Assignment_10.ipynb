{
 "cells": [
  {
   "cell_type": "markdown",
   "id": "d9d9175c",
   "metadata": {},
   "source": [
    "# Assignment 10 Solutions"
   ]
  },
  {
   "cell_type": "markdown",
   "id": "997df6f6",
   "metadata": {},
   "source": [
    "**Q1. What is the role of try and exception block?**"
   ]
  },
  {
   "cell_type": "markdown",
   "id": "548c628b",
   "metadata": {},
   "source": [
    "**Answer 1:-** The `try` and `except` blocks in programming are used for error handling, allowing you to gracefully handle exceptions (errors) that may occur during the execution of a program. Here's how they work:\n",
    "\n",
    "1. `try Block`:\n",
    "\n",
    "* The code that might raise an exception is placed inside the try block.\n",
    "\n",
    "* If an exception occurs within the try block, the normal flow of execution is interrupted, and the control is transferred to the nearest except block.\n",
    "\n",
    "2. `except Block`:\n",
    "\n",
    "* The except block contains the code that will be executed if a specific type of exception occurs in the associated try block.\n",
    "* You can have multiple except blocks to handle different types of exceptions or to execute different code depending on the exception"
   ]
  },
  {
   "cell_type": "markdown",
   "id": "1112d726",
   "metadata": {},
   "source": [
    "**Q2. What is the syntax for a basic try-except block?**"
   ]
  },
  {
   "cell_type": "markdown",
   "id": "8a8abd9e",
   "metadata": {},
   "source": [
    "**Answer 2:-** The basic syntax for a try-except block in most programming languages, including Python, is as follows:"
   ]
  },
  {
   "cell_type": "code",
   "execution_count": null,
   "id": "d1332cfe",
   "metadata": {},
   "outputs": [],
   "source": [
    "try:\n",
    "    # Code that might raise an exception\n",
    "    # ...\n",
    "except SomeExceptionType:\n",
    "    # Code to handle the specific exception (SomeExceptionType)\n",
    "    # ...\n",
    "except AnotherExceptionType:\n",
    "    # Code to handle another specific exception (AnotherExceptionType)\n",
    "    # ...\n",
    "except Exception as e:\n",
    "    # Code to handle any other exceptions, with the exception object available as 'e'\n",
    "    # ...\n",
    "else:\n",
    "    # Optional 'else' block that is executed if no exception occurs in the 'try' block\n",
    "    # ...\n",
    "finally:\n",
    "    # Optional 'finally' block that is always executed, whether an exception occurred or not\n",
    "    # ..."
   ]
  },
  {
   "cell_type": "markdown",
   "id": "7ae6d1cc",
   "metadata": {},
   "source": [
    "Here's a breakdown of each part:\n",
    "\n",
    "* `try`: This block contains the code that might raise an exception.\n",
    "\n",
    "* `except`: This block contains the code that will be executed if a specific type of exception occurs in the try block. You can have multiple except blocks to handle different types of exceptions.\n",
    "\n",
    "* `ExceptionType`: Replace ExceptionType with the actual type of exception you want to catch. For example, ZeroDivisionError, FileNotFoundError, etc.\n",
    "\n",
    "* `as e`: This part is optional but allows you to capture the exception object for further analysis or printing.\n",
    "\n",
    "* `else`: This block is optional and is executed if no exception occurs in the try block.\n",
    "\n",
    "* `finally`: This block is optional and is always executed, whether an exception occurred or not. It's typically used for cleanup operations."
   ]
  },
  {
   "cell_type": "markdown",
   "id": "80de73df",
   "metadata": {},
   "source": [
    "**Q3. What happens if an exception occurs inside a try block and there is no matching\n",
    "except block?**"
   ]
  },
  {
   "cell_type": "markdown",
   "id": "463e8101",
   "metadata": {},
   "source": [
    "**Answer 3:-** If an exception occurs inside a try block and there is no matching except block to handle that specific type of exception, the program will terminate, and an unhandled exception error will be raised. This can result in an abrupt termination of the program and may also display an error message with information about the unhandled exception."
   ]
  },
  {
   "cell_type": "code",
   "execution_count": 1,
   "id": "4b86c3d9",
   "metadata": {},
   "outputs": [
    {
     "ename": "ZeroDivisionError",
     "evalue": "division by zero",
     "output_type": "error",
     "traceback": [
      "\u001b[1;31m---------------------------------------------------------------------------\u001b[0m",
      "\u001b[1;31mZeroDivisionError\u001b[0m                         Traceback (most recent call last)",
      "Input \u001b[1;32mIn [1]\u001b[0m, in \u001b[0;36m<cell line: 2>\u001b[1;34m()\u001b[0m\n\u001b[0;32m      1\u001b[0m \u001b[38;5;66;03m## Here's a simple example in Python:\u001b[39;00m\n\u001b[0;32m      2\u001b[0m \u001b[38;5;28;01mtry\u001b[39;00m:\n\u001b[1;32m----> 3\u001b[0m     result \u001b[38;5;241m=\u001b[39m \u001b[38;5;241;43m10\u001b[39;49m\u001b[43m \u001b[49m\u001b[38;5;241;43m/\u001b[39;49m\u001b[43m \u001b[49m\u001b[38;5;241;43m0\u001b[39;49m  \u001b[38;5;66;03m# This will raise a ZeroDivisionError\u001b[39;00m\n\u001b[0;32m      4\u001b[0m \u001b[38;5;28;01mexcept\u001b[39;00m \u001b[38;5;167;01mValueError\u001b[39;00m:\n\u001b[0;32m      5\u001b[0m     \u001b[38;5;66;03m# This except block does not match the type of exception (ZeroDivisionError)\u001b[39;00m\n\u001b[0;32m      6\u001b[0m     \u001b[38;5;28mprint\u001b[39m(\u001b[38;5;124m\"\u001b[39m\u001b[38;5;124mCaught a ValueError\u001b[39m\u001b[38;5;124m\"\u001b[39m)\n",
      "\u001b[1;31mZeroDivisionError\u001b[0m: division by zero"
     ]
    }
   ],
   "source": [
    "## Here's a simple example in Python:\n",
    "try:\n",
    "    result = 10 / 0  # This will raise a ZeroDivisionError\n",
    "except ValueError:\n",
    "    # This except block does not match the type of exception (ZeroDivisionError)\n",
    "    print(\"Caught a ValueError\")"
   ]
  },
  {
   "cell_type": "markdown",
   "id": "0049de9d",
   "metadata": {},
   "source": [
    "In this example, a ZeroDivisionError occurs in the try block, but there is no except block specifically designed to handle ZeroDivisionError. As a result, the program will terminate, and you'll see an error message indicating an unhandled exception."
   ]
  },
  {
   "cell_type": "markdown",
   "id": "13b95137",
   "metadata": {},
   "source": [
    "**Q4. What is the difference between using a bare except block and specifying a specific\n",
    "exception type?**"
   ]
  },
  {
   "cell_type": "markdown",
   "id": "22e775c6",
   "metadata": {},
   "source": [
    "**Answer 4:-** Using a bare except block and specifying a specific exception type in an except block serve different purposes in error handling:\n",
    "\n",
    "1. Specific Exception Type:\n",
    "\n",
    "* When you specify a specific exception type in an except block, you are indicating that you want to catch and handle a particular type of exception.\n",
    "* This allows you to provide targeted and appropriate handling for known exceptions.\n",
    "* Example:\n",
    "\n",
    "    `try:`\n",
    "        `result = 10 / 0`\n",
    "    `except ZeroDivisionError:`\n",
    "        `print(\"Caught a ZeroDivisionError\")`\n",
    "\n",
    "2. Bare except Block:\n",
    "\n",
    "* A bare except block catches any exception, regardless of its type. It serves as a generic or fallback mechanism to handle unexpected exceptions.\n",
    "* While it provides a catch-all approach, it can make debugging more challenging, as you may not immediately know which specific type of exception occurred.\n",
    "* Example:\n",
    "\n",
    "    `try:`\n",
    "        `result = 10 / 0`\n",
    "    `except:`\n",
    "        `print(\"Caught an exception (any type)\")`\n"
   ]
  },
  {
   "cell_type": "markdown",
   "id": "9510ea18",
   "metadata": {},
   "source": [
    "**Q5. Can you have nested try-except blocks in Python? If yes, then give an example.**"
   ]
  },
  {
   "cell_type": "markdown",
   "id": "3f0a871d",
   "metadata": {},
   "source": [
    "**Answer 5:-** Yes, you can have nested try-except blocks in Python. This allows you to handle exceptions at different levels of your code. Each inner try block can have its own set of except blocks, providing a more fine-grained approach to error handling.\n",
    "\n",
    "Here's an example:"
   ]
  },
  {
   "cell_type": "code",
   "execution_count": 2,
   "id": "22285662",
   "metadata": {},
   "outputs": [
    {
     "name": "stdout",
     "output_type": "stream",
     "text": [
      "Enter the numerator: 5\n",
      "Enter the denominator: 10\n",
      "Enter the index to retrieve from a list: 2\n",
      "Value from the list: 3\n"
     ]
    }
   ],
   "source": [
    "try:\n",
    "    # Outer try block\n",
    "    num1 = int(input(\"Enter the numerator: \"))\n",
    "    num2 = int(input(\"Enter the denominator: \"))\n",
    "\n",
    "    result = num1 / num2\n",
    "\n",
    "    try:\n",
    "        # Inner try block\n",
    "        index = int(input(\"Enter the index to retrieve from a list: \"))\n",
    "        my_list = [1, 2, 3, 4]\n",
    "        value = my_list[index]\n",
    "        print(\"Value from the list:\", value)\n",
    "\n",
    "    except IndexError:\n",
    "        # Handle index errors specific to the inner try block\n",
    "        print(\"IndexError: Index is out of range in the inner try block\")\n",
    "\n",
    "except ValueError:\n",
    "    # Handle value errors specific to the outer try block\n",
    "    print(\"ValueError: Invalid input for numerator or denominator\")\n",
    "\n",
    "except ZeroDivisionError:\n",
    "    # Handle zero division errors specific to the outer try block\n",
    "    print(\"ZeroDivisionError: Cannot divide by zero in the outer try block\")\n",
    "\n",
    "except Exception as e:\n",
    "    # Catch any other exceptions that may occur\n",
    "    print(f\"An unexpected error occurred: {e}\")\n"
   ]
  },
  {
   "cell_type": "markdown",
   "id": "1288a3e3",
   "metadata": {},
   "source": [
    "**Q6. Can we use multiple exception blocks, if yes then give an example.**"
   ]
  },
  {
   "cell_type": "markdown",
   "id": "e3a4bc4c",
   "metadata": {},
   "source": [
    "**Answer 6:-** Yes, you can use multiple except blocks to handle different types of exceptions in Python. Each except block can handle a specific type of exception, allowing you to provide targeted error handling for various scenarios.\n",
    "\n",
    "Here's an example"
   ]
  },
  {
   "cell_type": "code",
   "execution_count": 3,
   "id": "4e86206d",
   "metadata": {},
   "outputs": [
    {
     "name": "stdout",
     "output_type": "stream",
     "text": [
      "Enter the numerator: 5\n",
      "Enter the denominator: 10\n",
      "Enter the index to retrieve from a list: 1\n",
      "Value from the list: 2\n"
     ]
    }
   ],
   "source": [
    "try:\n",
    "    # Code that might raise an exception\n",
    "    num1 = int(input(\"Enter the numerator: \"))\n",
    "    num2 = int(input(\"Enter the denominator: \"))\n",
    "\n",
    "    result = num1 / num2\n",
    "\n",
    "    # Additional code that might raise a different type of exception\n",
    "    index = int(input(\"Enter the index to retrieve from a list: \"))\n",
    "    my_list = [1, 2, 3, 4]\n",
    "    value = my_list[index]\n",
    "    print(\"Value from the list:\", value)\n",
    "\n",
    "except ValueError:\n",
    "    # Handle a ValueError (e.g., if the user enters a non-integer)\n",
    "    print(\"ValueError: Invalid input for numerator, denominator, or index\")\n",
    "\n",
    "except ZeroDivisionError:\n",
    "    # Handle a ZeroDivisionError (e.g., if the user enters 0 as the denominator)\n",
    "    print(\"ZeroDivisionError: Cannot divide by zero\")\n",
    "\n",
    "except IndexError:\n",
    "    # Handle an IndexError (e.g., if the user enters an invalid index)\n",
    "    print(\"IndexError: Index is out of range in the list\")\n",
    "\n",
    "except Exception as e:\n",
    "    # Catch any other exceptions that may occur\n",
    "    print(f\"An unexpected error occurred: {e}\")\n"
   ]
  },
  {
   "cell_type": "markdown",
   "id": "1a2c1cd9",
   "metadata": {},
   "source": [
    "In this example, there are multiple except blocks, each handling a specific type of exception. If a ValueError occurs when converting user input to integers, the first except block is executed. If a ZeroDivisionError occurs during the division, the second except block is executed. If an IndexError occurs while trying to access an element from the list, the third except block is executed. The last except block is a catch-all for any other unexpected exceptions.\n",
    "\n",
    "Using multiple except blocks allows you to tailor your error-handling logic to different types of exceptions, making your code more robust and providing clearer feedback to users or developers."
   ]
  },
  {
   "cell_type": "markdown",
   "id": "e39c5479",
   "metadata": {},
   "source": [
    "**Q7. Write the reason due to which following errors are raised:**\n",
    "\n",
    "**A.) EOF Error**"
   ]
  },
  {
   "cell_type": "markdown",
   "id": "df4c754a",
   "metadata": {},
   "source": [
    "**Answer A. :-** An \"EOF error\" in Python typically occurs when the interpreter encounters the end of a file (EOF) unexpectedly and was expecting more content. This often happens in situations where there is an incomplete or improperly formatted code block, statement, or input.\n",
    "\n",
    "For example, if you open a file and try to read data from it, the EOF error may occur if the file is not properly closed or if the reading process reaches the end unexpectedly. Similarly, in interactive environments like the Python shell or Jupyter notebooks, an EOF error can occur if you input incomplete code or if a code block is not properly terminated."
   ]
  },
  {
   "cell_type": "markdown",
   "id": "94a460d8",
   "metadata": {},
   "source": [
    "**B.) Floating Point Error**"
   ]
  },
  {
   "cell_type": "markdown",
   "id": "34231372",
   "metadata": {},
   "source": [
    "**Answer B. :-** A Floating Point Error in Python usually occurs when there's an issue with floating-point arithmetic operations. This type of error may arise from attempting operations that result in mathematical undefined behaviors or exceed the representational limits of floating-point numbers.\n",
    "\n",
    "Here are a few common scenarios that can lead to Floating Point Errors:\n",
    "\n",
    "\n",
    "A Floating Point Error in Python usually occurs when there's an issue with floating-point arithmetic operations. This type of error may arise from attempting operations that result in mathematical undefined behaviors or exceed the representational limits of floating-point numbers.\n",
    "\n",
    "Here are a few common scenarios that can lead to Floating Point Errors:\n",
    "\n",
    "* `Dividing by Zero:` If you attempt to divide a number by zero, Python raises a ZeroDivisionError. This is particularly relevant when working with floating-point numbers.\n",
    "\n",
    "```python\n",
    "    result = 5.0 / 0  # This will raise a ZeroDivisionError\n",
    "```\n",
    "   \n",
    "   \n",
    "* `Overflow or Underflow:` Floating-point numbers in Python have limits in terms of representable values. Performing calculations that result in extremely large or small numbers may lead to overflow or underflow errors.\n",
    "\n",
    "```python\n",
    "    result = 1e308 * 1e308  # This can result in an OverflowError\n",
    "```\n",
    "    \n",
    "    \n",
    "* `Invalid Operations:` Certain mathematical operations, such as taking the square root of a negative number, can lead to undefined results and raise a ValueError.\n",
    "\n",
    "```python\n",
    "    result = math.sqrt(-1.0)  # This will raise a ValueError\n",
    "```"
   ]
  },
  {
   "cell_type": "markdown",
   "id": "d5eb8795",
   "metadata": {},
   "source": [
    "**C.) IndexError**"
   ]
  },
  {
   "cell_type": "markdown",
   "id": "c2664c83",
   "metadata": {},
   "source": [
    "**Answer C. :-** An Index Error in Python is raised when you try to access an index in a sequence (like a list or a tuple) that is outside the valid range of indices for that sequence. Here are some common scenarios leading to Index Errors:\n",
    "\n",
    "* `Index Out of Range:` Trying to access an index that is not present in the sequence will result in an IndexError. In Python, indices start from 0, so if you try to access an index equal to or greater than the length of the sequence, you'll get an error.\n",
    "  \n",
    "  ```python\n",
    "    my_list = [1, 2, 3]\n",
    "    print(my_list[3])  # This will raise an IndexError\n",
    "    ```\n",
    "\n",
    "* `Empty Sequence:` If you try to access an element in an empty sequence, you'll also encounter an IndexError.\n",
    "\n",
    "    ```python\n",
    "    empty_list = []\n",
    "    print(empty_list[0])  # This will raise an IndexError\n",
    "    ```\n",
    "   \n",
    "* `Negative Index:` While negative indices are allowed in Python and represent counting from the end of the sequence, if the absolute value of the negative index is greater than the length of the sequence, it will result in an IndexError.\n",
    "\n",
    "    ```python\n",
    "    my_list = [1, 2, 3]\n",
    "    print(my_list[-4])  # This will raise an IndexError\n",
    "   ```"
   ]
  },
  {
   "cell_type": "markdown",
   "id": "3a72cd43",
   "metadata": {},
   "source": [
    "**D.) MemoryError**"
   ]
  },
  {
   "cell_type": "markdown",
   "id": "2f4a3871",
   "metadata": {},
   "source": [
    "**Answer D. :-** A MemoryError in Python is raised when an operation runs out of available memory. This occurs when the program attempts to allocate more memory than the system can provide. Here are a few common scenarios that can lead to a MemoryError:\n",
    "\n",
    "* `Large Data Structures:` Attempting to create or manipulate very large data structures, such as lists, arrays, or dictionaries, can lead to a MemoryError. If the size of the data structure exceeds the available system memory, the allocation fails.\n",
    "\n",
    "    `# Example of trying to create a very large list`\n",
    "   ```python\n",
    "    large_list = [0] * (10**8)  # This may result in a MemoryError\n",
    "   ```\n",
    "   \n",
    "\n",
    "* `Infinite Recursion:` Recursive functions that do not have a proper termination condition can lead to a MemoryError as the recursion consumes the available call stack space.\n",
    "\n",
    "    `# Example of a poorly designed recursive function`\n",
    "    \n",
    "    ```python\n",
    "    def infinite_recursion():\n",
    "            return infinite_recursion()\n",
    "     infinite_recursion()  # This may result in a MemoryError`\n",
    "    ```\n",
    "* `File Reading/Loading Large Files:` Reading or loading an excessively large file into memory can lead to a MemoryError, especially if the file size is larger than the available RAM.\n",
    "\n",
    "    ```python\n",
    "    with open('large_file.txt', 'r') as file:\n",
    "         data = file.read()  # This may result in a MemoryError for large files\n",
    "    ```"
   ]
  },
  {
   "cell_type": "markdown",
   "id": "e4c62e26",
   "metadata": {},
   "source": [
    "**E.) OverflowError**"
   ]
  },
  {
   "cell_type": "markdown",
   "id": "41afe41a",
   "metadata": {},
   "source": [
    "**Answer E. :-** An OverflowError in Python occurs when the result of an arithmetic operation exceeds the representational limits of the data type involved. This error is commonly associated with integer arithmetic and can occur in the following situations:\n",
    "\n",
    "* `Integer Overflow:` Performing arithmetic operations that result in a value beyond the maximum representable integer value for the given data type can lead to an `OverflowError`.\n",
    "```python\n",
    "result = 2**1000  # This may result in an OverflowError for very large exponents\n",
    "```\n",
    "* `Conversion Overflow:` When converting between numeric types, such as converting a float to an integer, if the value is too large to be represented as an integer, it can trigger an `OverflowError`.\n",
    "```python\n",
    "too_large_float = float('inf')\n",
    "result = int(too_large_float)  # This may result in an OverflowError\n",
    "```\n",
    "* `Range Exceedance in Data Types:` Some numeric types have specific ranges, and exceeding these ranges can lead to overflow errors.\n",
    "```python\n",
    "max_value = 2**31 - 1  # Maximum value for a 32-bit signed integer\n",
    "overflowed_value = max_value + 1  # This may result in an OverflowError\n",
    "```\n",
    "\n",
    "To handle potential OverflowError situations, it's important to be aware of the numerical limits of the data types you are working with. Use appropriate data types that can accommodate the expected range of values, and consider using error-checking mechanisms or try-except blocks to gracefully handle overflow situations in your code."
   ]
  },
  {
   "cell_type": "markdown",
   "id": "e97672aa",
   "metadata": {},
   "source": [
    "**F.) Tab Error**"
   ]
  },
  {
   "cell_type": "markdown",
   "id": "604025bf",
   "metadata": {},
   "source": [
    "**Answer F. :-** A TabError in Python is raised when there are inconsistencies in the indentation of code that uses both tabs and spaces. Python relies on consistent indentation to define blocks of code, and mixing tabs and spaces can lead to ambiguity and result in a TabError. Here are a few common scenarios that can trigger a TabError:\n",
    "\n",
    "* `Mixing Tabs and Spaces:`If the code uses a combination of tabs and spaces for indentation within the same block, Python may raise a TabError. It's essential to be consistent in choosing either tabs or spaces for indentation throughout the code.\n",
    "```python\n",
    "# This may result in a TabError due to mixing tabs and spaces\n",
    "if condition:\n",
    "\tprint('Indented with a tab')\n",
    "else:\n",
    "        print('Indented with spaces')\n",
    "```\n",
    "* `Inconsistent Indentation Levels:` In some cases, the interpreter may raise a TabError if it encounters inconsistent levels of indentation within the same block.\n",
    "```python\n",
    "# This may result in a TabError due to inconsistent indentation levels\n",
    "if condition:\n",
    "\tprint('Indented correctly')\n",
    "\t    print('Inconsistent indentation')  # This may raise a TabError\n",
    "```"
   ]
  },
  {
   "cell_type": "markdown",
   "id": "361ff34f",
   "metadata": {},
   "source": [
    "**G.) ValueError**"
   ]
  },
  {
   "cell_type": "markdown",
   "id": "165d13d6",
   "metadata": {},
   "source": [
    "**Answer G. :-** A ValueError in Python is raised when an operation or function receives an argument of the correct data type but with an invalid or inappropriate value. Here are some common scenarios that can lead to a ValueError:\n",
    "\n",
    "* `Invalid Argument for a Function:` If a function expects a certain type of input, but the provided value is not valid for that operation, it can result in a ValueError.\n",
    "```python\n",
    "# Example: int() function expects a valid integer string\n",
    "invalid_value = int(\"abc\")  # This will raise a ValueError\n",
    "```\n",
    "* `Invalid Conversion:` Attempting to convert or cast a value to a different type, and the value cannot be successfully converted, can lead to a ValueError.\n",
    "```python\n",
    "# Example: Trying to convert a string to an integer, but the string is not a valid integer\n",
    "invalid_conversion = int(\"123abc\")  # This will raise a ValueError\n",
    "```\n",
    "* `Index Out of Range:` In some cases, an operation may expect an index within a certain range, and providing an index outside that range can result in a ValueError.\n",
    "```python\n",
    "# Example: Accessing an index that doesn't exist in a list\n",
    "my_list = [1, 2, 3]\n",
    "value = my_list[10]  # This will raise a ValueError\n",
    "```\n",
    "1.To handle ValueError:\n",
    "\n",
    "1. Check the input values before performing operations to ensure they are valid.\n",
    "2. Use conditional statements or try-except blocks to handle potential value errors gracefully.\n",
    "3. Provide informative error messages to help identify the issue."
   ]
  },
  {
   "cell_type": "markdown",
   "id": "0688bbc0",
   "metadata": {},
   "source": [
    "**Q8. Write code for the following given scenario and add try-exception block to it.**"
   ]
  },
  {
   "cell_type": "markdown",
   "id": "a1fd962f",
   "metadata": {},
   "source": [
    "#### A.) Program to divide two numbers"
   ]
  },
  {
   "cell_type": "code",
   "execution_count": 2,
   "id": "cedaec18",
   "metadata": {},
   "outputs": [
    {
     "name": "stdout",
     "output_type": "stream",
     "text": [
      "Enter the numerator: 10\n",
      "Enter the denominator: 2\n",
      "The result of 10.0 divided by 2.0 is: 5.0\n"
     ]
    }
   ],
   "source": [
    "## Answer A. :-\n",
    "\n",
    "def divide_numbers(numerator, denominator):\n",
    "    try:\n",
    "        result = numerator / denominator\n",
    "        print(f\"The result of {numerator} divided by {denominator} is: {result}\")\n",
    "    except ZeroDivisionError:\n",
    "        print(\"Error: Cannot divide by zero. Please provide a non-zero denominator.\")\n",
    "\n",
    "# Example usage\n",
    "numerator = float(input(\"Enter the numerator: \"))\n",
    "denominator = float(input(\"Enter the denominator: \"))\n",
    "\n",
    "divide_numbers(numerator, denominator)"
   ]
  },
  {
   "cell_type": "markdown",
   "id": "c2a649df",
   "metadata": {},
   "source": [
    "**B.) Program to convert a string to an integer**"
   ]
  },
  {
   "cell_type": "code",
   "execution_count": 4,
   "id": "27aca80e",
   "metadata": {},
   "outputs": [
    {
     "name": "stdout",
     "output_type": "stream",
     "text": [
      "Enter a number: s\n",
      "Error: Unable to convert 's' to an integer. Please enter a valid integer.\n"
     ]
    }
   ],
   "source": [
    "## Answer B. :-\n",
    "\n",
    "def convert_to_integer(value):\n",
    "    try:\n",
    "        integer_value = int(value)\n",
    "        print(f\"The integer value is: {integer_value}\")\n",
    "    except ValueError:\n",
    "        print(f\"Error: Unable to convert '{value}' to an integer. Please enter a valid integer.\")\n",
    "\n",
    "# Example usage\n",
    "user_input = input(\"Enter a number: \")\n",
    "\n",
    "convert_to_integer(user_input)\n"
   ]
  },
  {
   "cell_type": "markdown",
   "id": "2cacb5a3",
   "metadata": {},
   "source": [
    "**C.) Program to access an element in a list**"
   ]
  },
  {
   "cell_type": "code",
   "execution_count": 5,
   "id": "be086a48",
   "metadata": {},
   "outputs": [
    {
     "name": "stdout",
     "output_type": "stream",
     "text": [
      "Enter an index to access: 5\n",
      "Error: Index 5 is out of range. Please provide a valid index.\n"
     ]
    }
   ],
   "source": [
    "## Answer C. :-\n",
    "\n",
    "def access_list_element(my_list, index):\n",
    "    try:\n",
    "        value = my_list[index]\n",
    "        print(f\"The value at index {index} is: {value}\")\n",
    "    except IndexError:\n",
    "        print(f\"Error: Index {index} is out of range. Please provide a valid index.\")\n",
    "\n",
    "# Example usage\n",
    "my_list = [1, 2, 3, 4, 5]\n",
    "\n",
    "index_input = int(input(\"Enter an index to access: \"))\n",
    "\n",
    "access_list_element(my_list, index_input)\n"
   ]
  },
  {
   "cell_type": "markdown",
   "id": "3aa21724",
   "metadata": {},
   "source": [
    "**D.) Program to handle a specific exception.**"
   ]
  },
  {
   "cell_type": "code",
   "execution_count": 6,
   "id": "6048b42f",
   "metadata": {},
   "outputs": [
    {
     "name": "stdout",
     "output_type": "stream",
     "text": [
      "Enter a numeric value: five\n",
      "Error: The provided value 'five' is not numeric. Please provide a numeric value.\n"
     ]
    }
   ],
   "source": [
    "## Answer D. :-\n",
    "\n",
    "def handle_specific_exception(value):\n",
    "    try:\n",
    "        result = value + 10  # This will raise a TypeError if 'value' is not numeric\n",
    "        print(f\"The result is: {result}\")\n",
    "    except TypeError:\n",
    "        print(f\"Error: The provided value '{value}' is not numeric. Please provide a numeric value.\")\n",
    "\n",
    "# Example usage\n",
    "user_input = input(\"Enter a numeric value: \")\n",
    "\n",
    "handle_specific_exception(user_input)"
   ]
  },
  {
   "cell_type": "markdown",
   "id": "fcff9dd2",
   "metadata": {},
   "source": [
    "**E.) Program to handle any exception.**"
   ]
  },
  {
   "cell_type": "code",
   "execution_count": 9,
   "id": "1b90edff",
   "metadata": {},
   "outputs": [
    {
     "name": "stdout",
     "output_type": "stream",
     "text": [
      "Enter a integer: 0\n",
      "An error occurred: ZeroDivisionError - float division by zero\n"
     ]
    }
   ],
   "source": [
    "## Answer E. :- \n",
    "\n",
    "def handle_any_exception(value):\n",
    "    try:\n",
    "        result = 10 / value  # This may raise various exceptions, including ZeroDivisionError\n",
    "        print(f\"The result is: {result}\")\n",
    "    except Exception as e:\n",
    "        print(f\"An error occurred: {type(e).__name__} - {str(e)}\")\n",
    "\n",
    "# Example usage\n",
    "user_input = float(input(\"Enter a integer: \"))\n",
    "\n",
    "handle_any_exception(user_input)\n"
   ]
  },
  {
   "cell_type": "code",
   "execution_count": null,
   "id": "7b87e64d",
   "metadata": {},
   "outputs": [],
   "source": []
  },
  {
   "cell_type": "code",
   "execution_count": null,
   "id": "2630ca5c",
   "metadata": {},
   "outputs": [],
   "source": []
  }
 ],
 "metadata": {
  "kernelspec": {
   "display_name": "Python 3 (ipykernel)",
   "language": "python",
   "name": "python3"
  },
  "language_info": {
   "codemirror_mode": {
    "name": "ipython",
    "version": 3
   },
   "file_extension": ".py",
   "mimetype": "text/x-python",
   "name": "python",
   "nbconvert_exporter": "python",
   "pygments_lexer": "ipython3",
   "version": "3.9.12"
  }
 },
 "nbformat": 4,
 "nbformat_minor": 5
}
