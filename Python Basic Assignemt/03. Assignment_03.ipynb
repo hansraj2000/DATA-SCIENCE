{
 "cells": [
  {
   "cell_type": "markdown",
   "id": "9e90ffd0",
   "metadata": {},
   "source": [
    "# Assignment 3 Solution"
   ]
  },
  {
   "cell_type": "markdown",
   "id": "0f658332",
   "metadata": {},
   "source": [
    "**Q1. Why are functions advantageous to have in your programs?**\n",
    "\n",
    "**Answer :-** The main advantage of functions is code reusablility. This makes programs shorter, easier to read, and easier to update.By including functions, we can prevent repeating the same code block repeatedly in a program. Functions, once defined, can be called many times and from anywhere in a program."
   ]
  },
  {
   "cell_type": "markdown",
   "id": "03a1d11c",
   "metadata": {},
   "source": [
    "**Q2. When does the code in a function run: when it's specified or when it's called?**\n",
    "\n",
    "**Answer :-** The function in a code executes when the function is called not when it is specified."
   ]
  },
  {
   "cell_type": "markdown",
   "id": "81d2c1da",
   "metadata": {},
   "source": [
    "**Q3. What statement creates a function?**\n",
    "\n",
    "**Answer :-** The `def` statement defines a function  \n",
    "**Syntax of Function:**\n",
    "\n",
    "` def function_name(parameters):        \n",
    "    -----function body-----\n",
    "    return value\n",
    "`\n",
    "\n",
    "**eg :-** "
   ]
  },
  {
   "cell_type": "code",
   "execution_count": 3,
   "id": "f7891f72",
   "metadata": {},
   "outputs": [
    {
     "data": {
      "text/plain": [
       "9"
      ]
     },
     "execution_count": 3,
     "metadata": {},
     "output_type": "execute_result"
    }
   ],
   "source": [
    "def add(a, b):\n",
    "    # sum of a,b\n",
    "    res = a+b\n",
    "    return res\n",
    "add(4,5)"
   ]
  },
  {
   "cell_type": "markdown",
   "id": "228fd552",
   "metadata": {},
   "source": [
    "**Q4. What is the difference between a function and a function call?**\n",
    "\n",
    "**Answer :-** A function is procedure to achieve a particular result. while function call is using this function to achive that task. Using a function to do a particular task any point in program is called as function call."
   ]
  },
  {
   "cell_type": "markdown",
   "id": "22e9e83f",
   "metadata": {},
   "source": [
    "**Q5. How many global scopes are there in a Python program? How many local scopes?**\n",
    "\n",
    "**Answer :-** There's only one global Python scope per program execution and the local scope is created whenever a function is called."
   ]
  },
  {
   "cell_type": "markdown",
   "id": "5a34f161",
   "metadata": {},
   "source": [
    "**Q6. What happens to variables in a local scope when the function call returns?**\n",
    "\n",
    "**Answer :-** Each call of the function creates new local variables, and their lifetimes expire when the function returns to the caller. When a function returns, the local scope is destroyed, and all the variables in it are forgotten."
   ]
  },
  {
   "cell_type": "markdown",
   "id": "ac7c926b",
   "metadata": {},
   "source": [
    "**Q7. What is the concept of a return value? Is it possible to have a return value in an expression?**\n",
    "\n",
    "**Answer :-** A return value is the value that a function call evaluates. Like any value, a return value can be used as part of an expression.\n",
    "\n",
    "**eg :-** we can return value in an expression"
   ]
  },
  {
   "cell_type": "code",
   "execution_count": 6,
   "id": "d5449837",
   "metadata": {},
   "outputs": [
    {
     "data": {
      "text/plain": [
       "100"
      ]
     },
     "execution_count": 6,
     "metadata": {},
     "output_type": "execute_result"
    }
   ],
   "source": [
    "def add(a,b):\n",
    "   \n",
    "   return a + b\n",
    "\n",
    "add(80,20)"
   ]
  },
  {
   "cell_type": "markdown",
   "id": "26093628",
   "metadata": {},
   "source": [
    "**Q8. If a function does not have a return statement, what is the return value of a call to that function?**\n",
    "\n",
    "**Answer :-** If there is no return statement for a function, it will return value is `None`."
   ]
  },
  {
   "cell_type": "markdown",
   "id": "c6179940",
   "metadata": {},
   "source": [
    "**Q9. How do you make a function variable refer to the global variable?**\n",
    "\n",
    "**Answer :-** Normally, when you create a variable inside a function, that variable is local, and can only be used inside that function. To create a global variable inside a function, you can use the `global` keyword to declare which variables are global."
   ]
  },
  {
   "cell_type": "code",
   "execution_count": 8,
   "id": "7b18ab06",
   "metadata": {},
   "outputs": [
    {
     "name": "stdout",
     "output_type": "stream",
     "text": [
      "Python is fantastic\n"
     ]
    }
   ],
   "source": [
    "def func():\n",
    "  global x\n",
    "  x = \"fantastic\"\n",
    "\n",
    "func()\n",
    "\n",
    "print(\"Python is \" + x)"
   ]
  },
  {
   "cell_type": "markdown",
   "id": "2d33e000",
   "metadata": {},
   "source": [
    "**Q10. What is the data type of None?**\n",
    "\n",
    "**Answer :-** The data type of None is `NoneType`."
   ]
  },
  {
   "cell_type": "markdown",
   "id": "6c4842b6",
   "metadata": {},
   "source": [
    "**Q11. What does the sentence import areallyourpetsnamederic do?**\n",
    "\n",
    "**Answer :-** That import statement imports a module named areallyourpetsnamederic."
   ]
  },
  {
   "cell_type": "markdown",
   "id": "aaed1b76",
   "metadata": {},
   "source": [
    "**Q12. If you had a bacon() feature in a spam module, what would you call it after importing spam?**\n",
    "\n",
    "**Answer :-** This function can be called with `spam.bacon()`."
   ]
  },
  {
   "cell_type": "markdown",
   "id": "5787eaed",
   "metadata": {},
   "source": [
    "**Q13. What can you do to save a programme from crashing if it encounters an error?**\n",
    "\n",
    "**Answer :-** Place the line of code that might cause an error in a `try` clause and use `except` block to handle the error."
   ]
  },
  {
   "cell_type": "markdown",
   "id": "b72f427f",
   "metadata": {},
   "source": [
    "**Q14. What is the purpose of the try clause? What is the purpose of the except clause?**\n",
    "\n",
    "**Answer :-** The `try` block lets you test a block of code for errors. The `except` block lets you handle the error. The else block lets you execute code when there is no error. The finally block lets you execute code, regardless of the result of the try- and except blocks."
   ]
  },
  {
   "cell_type": "code",
   "execution_count": null,
   "id": "bc5c024d",
   "metadata": {},
   "outputs": [],
   "source": []
  }
 ],
 "metadata": {
  "kernelspec": {
   "display_name": "Python 3 (ipykernel)",
   "language": "python",
   "name": "python3"
  },
  "language_info": {
   "codemirror_mode": {
    "name": "ipython",
    "version": 3
   },
   "file_extension": ".py",
   "mimetype": "text/x-python",
   "name": "python",
   "nbconvert_exporter": "python",
   "pygments_lexer": "ipython3",
   "version": "3.9.12"
  }
 },
 "nbformat": 4,
 "nbformat_minor": 5
}
