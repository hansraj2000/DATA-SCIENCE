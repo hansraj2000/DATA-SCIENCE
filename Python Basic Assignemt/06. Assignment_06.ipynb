{
 "cells": [
  {
   "cell_type": "markdown",
   "id": "a057ef2b",
   "metadata": {},
   "source": [
    "# Assignment 6 Solution"
   ]
  },
  {
   "cell_type": "markdown",
   "id": "44140530",
   "metadata": {},
   "source": [
    "**Q1. What are keywords in python? Using the keyword library, print all the python keywords.**\n",
    "\n",
    "**Answer :-** `keywords` are special reserved words that have specific meanings and purposes and can't be used for anything but those specific purposes. "
   ]
  },
  {
   "cell_type": "code",
   "execution_count": 2,
   "id": "5228bcad",
   "metadata": {},
   "outputs": [
    {
     "name": "stdout",
     "output_type": "stream",
     "text": [
      "Python keywords are...\n",
      "['False', 'None', 'True', '__peg_parser__', 'and', 'as', 'assert', 'async', 'await', 'break', 'class', 'continue', 'def', 'del', 'elif', 'else', 'except', 'finally', 'for', 'from', 'global', 'if', 'import', 'in', 'is', 'lambda', 'nonlocal', 'not', 'or', 'pass', 'raise', 'return', 'try', 'while', 'with', 'yield']\n",
      "Number of keywords :- 36\n"
     ]
    }
   ],
   "source": [
    "# Python program to print the list of all keywords\n",
    "\n",
    "# importing the module\n",
    "import keyword\n",
    "\n",
    "# printing the keywords\n",
    "print(\"Python keywords are...\")\n",
    "print(keyword.kwlist)\n",
    "print(\"Number of keywords :-\", len(keyword.kwlist))"
   ]
  },
  {
   "cell_type": "markdown",
   "id": "4ef6d6c5",
   "metadata": {},
   "source": [
    "**Q2. What are the rules to create variables in python?**\n",
    "\n",
    "**Answer :-** Rules for Python variables:\n",
    "\n",
    "A variable name must start with a letter or the underscore character\n",
    "\n",
    "A variable name cannot start with a number\n",
    "\n",
    "A variable name can only contain alpha-numeric characters and underscores `(A-z, 0-9, and _ )`\n",
    "\n",
    "Variable names are case-sensitive (age, Age and AGE are three different variables)"
   ]
  },
  {
   "cell_type": "markdown",
   "id": "94784cfd",
   "metadata": {},
   "source": [
    "**Q3. What are the standards and conventions followed for the nomenclature of variables in python to improve code readability and maintainability?**\n",
    "\n",
    "**Answer :-** NAMING CONVENTIONS\n",
    "\n",
    "Use grammatically correct variable names, the class name should start with an uppercase and must follow camelCase convention If more than two words are to be used. In the same way, a function name should be joined with an underscore, and it must be lowercase."
   ]
  },
  {
   "cell_type": "markdown",
   "id": "07230409",
   "metadata": {},
   "source": [
    "**Q4. What will happen if a keyword is used as a variable name?**\n",
    "\n",
    "**Answer :-** Keywords are the words in programming language which have a special meaning decided the lanuage. So we cannot use them as a variable as we cannot assign any value to them. In python keywords are case sensitive so we can use true as a variable but not TRUE."
   ]
  },
  {
   "cell_type": "markdown",
   "id": "5cdcb077",
   "metadata": {},
   "source": [
    "**Q5. For what purpose def keyword is used?**\n",
    "\n",
    "**Answer :-** Python def keyword is used to define a function, it is placed before a function name that is provided by the user to create a user-defined function. In Python, a function is a logical unit of code containing a sequence of statements indented under a name given using the “def” keyword."
   ]
  },
  {
   "cell_type": "markdown",
   "id": "b394212d",
   "metadata": {},
   "source": [
    "**Q6. What is the operation of this special character `‘\\’`?**\n",
    "\n",
    "**Answer :-** Escape sequences: The backslash is used to create escape sequences, which represent characters that are difficult to type directly. For example:\n",
    "\n",
    "* `\\n` represents a newline character.\n",
    "\n",
    "* `\\t` represents a tab character.\n",
    "\n",
    "* `\\\"` represents a double quotation mark.\n",
    "\n",
    "* `\\'` represents a single quotation mark.\n",
    "\n",
    "* `\\\\` represents a literal backslash character."
   ]
  },
  {
   "cell_type": "markdown",
   "id": "cfe3bfbf",
   "metadata": {},
   "source": [
    "**Q7. Give an example of the following conditions:\n",
    "(i) Homogeneous list\n",
    "(ii) Heterogeneous set\n",
    "(iii) Homogeneous tuple**\n",
    "\n",
    "**Answer :-** (i) Homogeneous list: A homogeneous list is a list that contains elements of the same type. For example, a list of integers would be a homogeneous list. Here's an example:\n",
    "\n",
    "numbers = `[1, 2, 3, 4, 5]`\n",
    "\n",
    "(ii) Heterogeneous set: A heterogeneous set is a set that contains elements of different types. For example, a set that contains both strings and integers would be a heterogeneous set. Here's an example:\n",
    "\n",
    "my_set = `{1, 'apple', 3.14, 'banana'}`\n",
    "\n",
    "(iii) Homogeneous tuple: A homogeneous tuple is a tuple that contains elements of the same type. For example, a tuple of strings would be a homogeneous tuple. Here's an example:\n",
    "\n",
    "fruits = ('apple', 'banana', 'orange')"
   ]
  },
  {
   "cell_type": "markdown",
   "id": "3142aefb",
   "metadata": {},
   "source": [
    "**Q8. Explain the mutable and immutable data types with proper explanation & examples.**\n",
    "\n",
    "**Answer :-** `(i) Mutable Data Types:-`\n",
    "Mutable data types, on the other hand, are those whose values can be modified after they are created. Operations performed on a mutable object can directly modify its value without creating a new object. This means that the identity of a mutable object remains the same, but its value can change. Examples of mutable data types in Python include lists, dictionaries, and sets.\n",
    "\n",
    "Let's see an example that demonstrates the mutability of lists:\n",
    "\n",
    "numbers = `[1, 2, 3, 4, 5]`\n",
    "\n",
    "numbers.append(6)\n",
    "\n",
    "print(numbers)  # Output: [1, 2, 3, 4, 5, 6]\n",
    "\n",
    "`(ii) Immutable Data Types:-`\n",
    "Immutable data types are those whose values cannot be modified after they are created. Whenever an operation is performed on an immutable object, a new object is created with the modified value, while the original object remains unchanged. This means that the identity and value of an immutable object are fixed. Examples of immutable data types include numbers (integers, floats), strings, and tuples.\n",
    "\n",
    "Here's an example to illustrate the immutability of strings:\n",
    "\n",
    "name = \"John\"\n",
    "\n",
    "new_name = name.upper()\n",
    "\n",
    "print(name)    \t\t  # Output: \"John\"\n",
    "\n",
    "print(new_name)\t\t  \t# Output: \"JOHN\"\n",
    "\n"
   ]
  },
  {
   "cell_type": "markdown",
   "id": "18784aa4",
   "metadata": {},
   "source": [
    "**Q9. Write a code to create the given structure using only for loop.**\n",
    "\n",
    "`    *`\n",
    "\n",
    "`   ***`\n",
    "\n",
    "`  *****`\n",
    "\n",
    "` *******`\n",
    "\n",
    "`*********`"
   ]
  },
  {
   "cell_type": "code",
   "execution_count": 3,
   "id": "dee74cdf",
   "metadata": {},
   "outputs": [
    {
     "name": "stdout",
     "output_type": "stream",
     "text": [
      "    *\n",
      "   ***\n",
      "  *****\n",
      " *******\n",
      "*********\n"
     ]
    }
   ],
   "source": [
    "rows = 5\n",
    "\n",
    "for i in range(rows):\n",
    "    # Print spaces before the asterisks\n",
    "    for j in range(rows - i - 1):\n",
    "        print(\" \", end=\"\")\n",
    "    \n",
    "    # Print asterisks\n",
    "    for k in range(2*i + 1):\n",
    "        print(\"*\", end=\"\")\n",
    "    \n",
    "    # Move to the next line after each row\n",
    "    print()\n"
   ]
  },
  {
   "cell_type": "markdown",
   "id": "af99e362",
   "metadata": {},
   "source": [
    "Q.10. Write a code to create the given structure using while loop.\n",
    "\n",
    "`|||||||||`\n",
    "\n",
    "` |||||||`\n",
    "\n",
    "`  |||||`\n",
    "\n",
    "`   |||`\n",
    "\n",
    "`    |`"
   ]
  },
  {
   "cell_type": "code",
   "execution_count": 4,
   "id": "565cfc5a",
   "metadata": {},
   "outputs": [
    {
     "name": "stdout",
     "output_type": "stream",
     "text": [
      "|||||||||\n",
      " |||||||\n",
      "  |||||\n",
      "   |||\n",
      "    |\n"
     ]
    }
   ],
   "source": [
    "rows = 5\n",
    "spaces = 0\n",
    "asterisks = 9\n",
    "\n",
    "while rows > 0:\n",
    "    # Print spaces\n",
    "    i = 0\n",
    "    while i < spaces:\n",
    "        print(\" \", end=\"\")\n",
    "        i += 1\n",
    "    \n",
    "    # Print asterisks\n",
    "    j = 0\n",
    "    while j < asterisks:\n",
    "        print(\"|\", end=\"\")\n",
    "        j += 1\n",
    "    \n",
    "    # Move to the next line after each row\n",
    "    print()\n",
    "    \n",
    "    spaces += 1\n",
    "    asterisks -= 2\n",
    "    rows -= 1\n"
   ]
  },
  {
   "cell_type": "code",
   "execution_count": null,
   "id": "ba627bcd",
   "metadata": {},
   "outputs": [],
   "source": []
  }
 ],
 "metadata": {
  "kernelspec": {
   "display_name": "Python 3 (ipykernel)",
   "language": "python",
   "name": "python3"
  },
  "language_info": {
   "codemirror_mode": {
    "name": "ipython",
    "version": 3
   },
   "file_extension": ".py",
   "mimetype": "text/x-python",
   "name": "python",
   "nbconvert_exporter": "python",
   "pygments_lexer": "ipython3",
   "version": "3.9.12"
  }
 },
 "nbformat": 4,
 "nbformat_minor": 5
}
