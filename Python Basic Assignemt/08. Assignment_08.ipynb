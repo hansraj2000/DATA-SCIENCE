{
 "cells": [
  {
   "cell_type": "markdown",
   "id": "2e3d57d5",
   "metadata": {},
   "source": [
    "# Assignment 8 Solution"
   ]
  },
  {
   "cell_type": "markdown",
   "id": "d41470ab",
   "metadata": {},
   "source": [
    "**Q1. In Python, what is the difference between a built-in function and a user-defined function? Provide an\n",
    "example of each.**"
   ]
  },
  {
   "cell_type": "markdown",
   "id": "da133e80",
   "metadata": {},
   "source": [
    "**Answer 1 :** the main difference between a built-in function and a user-defined function lies in their origin and definition.\n",
    "\n",
    "1. `Built-in function:`\n",
    "Built-in functions are functions that are already defined in the Python programming language. They are part of the Python standard library and can be directly used without the need for any additional import or external code. These functions cover a wide range of operations and are readily available for use in any Python program.\n",
    "\n",
    "Example of a built-in function:\n",
    "\n",
    "The `len()` function is a built-in function in Python that returns the length of an object, such as a string, list, tuple, or dictionary."
   ]
  },
  {
   "cell_type": "code",
   "execution_count": 1,
   "id": "0e8c3001",
   "metadata": {},
   "outputs": [
    {
     "name": "stdout",
     "output_type": "stream",
     "text": [
      "5\n"
     ]
    }
   ],
   "source": [
    "# Example of a built-in function\n",
    "my_list = [1, 2, 3, 4, 5]\n",
    "length_of_list = len(my_list)\n",
    "print(length_of_list)  # Output: 5"
   ]
  },
  {
   "cell_type": "markdown",
   "id": "e6a8efb3",
   "metadata": {},
   "source": [
    "2. `User-defined function:`\n",
    "User-defined functions, as the name suggests, are functions created by the user to perform specific tasks or operations based on their requirements. These functions are defined by the user using the `def` keyword, and they can have any valid Python code inside them. User-defined functions allow code reusability and modular programming.\n",
    "\n",
    "   Example of a user-defined function:\n",
    "\n",
    "\n",
    "In this example, we have defined a user-defined function called `add_numbers` that takes two arguments `a` and `b`, and it returns their sum.\n",
    "\n",
    "To summarize, built-in functions are pre-defined in Python, while user-defined functions are created by the programmer as per their specific needs."
   ]
  },
  {
   "cell_type": "code",
   "execution_count": 2,
   "id": "e377c021",
   "metadata": {},
   "outputs": [
    {
     "name": "stdout",
     "output_type": "stream",
     "text": [
      "15\n"
     ]
    }
   ],
   "source": [
    "# Example of a user-defined function\n",
    "def add_numbers(a, b):\n",
    "    return a + b\n",
    "\n",
    "result = add_numbers(10, 5)\n",
    "print(result)  # Output: 15"
   ]
  },
  {
   "cell_type": "markdown",
   "id": "1de8efb8",
   "metadata": {},
   "source": [
    "**Q2. How can you pass arguments to a function in Python? Explain the difference between positional arguments and keyword arguments.**"
   ]
  },
  {
   "cell_type": "markdown",
   "id": "c8d4a9f8",
   "metadata": {},
   "source": [
    "**Answer2 :** You can pass arguments to a function when you call it. Arguments are the values that a function receives to perform its task. There are two main ways to pass arguments to a function: positional arguments and keyword arguments.\n",
    "\n",
    "1. `Positional arguments:`\n",
    "Positional arguments are the most common way of passing arguments to a function. When you pass arguments as positional arguments, the order in which you provide the values matters. The function parameters receive the values based on their position in the function's parameter list.\n",
    "\n",
    "    Example using positional arguments:"
   ]
  },
  {
   "cell_type": "code",
   "execution_count": 3,
   "id": "26f2c965",
   "metadata": {},
   "outputs": [
    {
     "name": "stdout",
     "output_type": "stream",
     "text": [
      "Hello, Alice. You are 30 years old.\n"
     ]
    }
   ],
   "source": [
    "def greet(name, age):\n",
    "    print(f\"Hello, {name}. You are {age} years old.\")\n",
    "\n",
    "# Calling the function with positional arguments\n",
    "greet(\"Alice\", 30)\n",
    "# Output: Hello, Alice. You are 30 years old.\n"
   ]
  },
  {
   "cell_type": "markdown",
   "id": "d5f255c0",
   "metadata": {},
   "source": [
    "2. `Keyword arguments:`\n",
    "Keyword arguments allow you to specify the argument values explicitly using their corresponding parameter names when calling the function. When using keyword arguments, the order of the arguments does not matter.\n",
    "\n",
    "    Example using keyword arguments:"
   ]
  },
  {
   "cell_type": "code",
   "execution_count": 4,
   "id": "4c621463",
   "metadata": {},
   "outputs": [
    {
     "name": "stdout",
     "output_type": "stream",
     "text": [
      "Hello, Bob. You are 25 years old.\n"
     ]
    }
   ],
   "source": [
    "def greet(name, age):\n",
    "    print(f\"Hello, {name}. You are {age} years old.\")\n",
    "\n",
    "# Calling the function with keyword arguments\n",
    "greet(age=25, name=\"Bob\")\n",
    "# Output: Hello, Bob. You are 25 years old."
   ]
  },
  {
   "cell_type": "markdown",
   "id": "445fcb6d",
   "metadata": {},
   "source": [
    "**Q3. What is the purpose of the return statement in a function? Can a function have multiple return\n",
    "statements? Explain with an example.**"
   ]
  },
  {
   "cell_type": "markdown",
   "id": "cfb1d933",
   "metadata": {},
   "source": [
    "**Answer :** The `return` statement serves the following main purposes in a function:\n",
    "\n",
    "1. Returning a value: It allows a function to produce a result or `return` a specific value that can be used by the rest of the program.\n",
    "\n",
    "2. Exiting the function: Once a `return` statement is executed, the function exits immediately, and any code after the return statement is not executed.\n",
    "\n",
    "3. Communicating results: Functions can be used to perform complex calculations or operations, and the `return` statement allows the function to communicate the result of those operations back to the caller.\n",
    "\n",
    "Yes, a function can have multiple return statements. The function will stop executing and return the value associated with the first encountered return statement.\n",
    "\n",
    "Example of a function with multiple return statements:"
   ]
  },
  {
   "cell_type": "code",
   "execution_count": 5,
   "id": "7762e2a9",
   "metadata": {},
   "outputs": [
    {
     "name": "stdout",
     "output_type": "stream",
     "text": [
      "Positive\n",
      "Negative\n",
      "Zero\n"
     ]
    }
   ],
   "source": [
    "def check_number(number):\n",
    "    if number > 0:\n",
    "        return \"Positive\"\n",
    "    elif number < 0:\n",
    "        return \"Negative\"\n",
    "    else:\n",
    "        return \"Zero\"\n",
    "\n",
    "result1 = check_number(10)\n",
    "print(result1)  # Output: \"Positive\"\n",
    "\n",
    "result2 = check_number(-5)\n",
    "print(result2)  # Output: \"Negative\"\n",
    "\n",
    "result3 = check_number(0)\n",
    "print(result3)  # Output: \"Zero\""
   ]
  },
  {
   "cell_type": "markdown",
   "id": "d9399831",
   "metadata": {},
   "source": [
    "**Q4. What are lambda functions in Python? How are they different from regular functions? Provide an example where a lambda function can be useful.**"
   ]
  },
  {
   "cell_type": "markdown",
   "id": "1c997607",
   "metadata": {},
   "source": [
    "**Answer 4:** Lambda functions in Python are small, anonymous functions that can have any number of arguments but can only have one expression. They are also known as \"lambda expressions\" or \"anonymous functions\" because they don't have a formal name like regular functions defined using the def keyword. Instead, lambda functions are defined using the lambda keyword, followed by the argument list, a colon :, and the expression to be evaluated.\n",
    "\n",
    "The basic syntax of a lambda function is as follows:\n",
    "\n",
    "`lambda arguments: expression`\n",
    "\n",
    "Lambda functions are typically used for short and simple operations that can be expressed in a single line. They are useful when you need to create a function for a short-lived purpose without the need to define a full-fledged named function using def.\n",
    "\n",
    "Now let's compare a lambda function to a regular function:"
   ]
  },
  {
   "cell_type": "code",
   "execution_count": 6,
   "id": "b3783711",
   "metadata": {},
   "outputs": [],
   "source": [
    "## Regular Function:\n",
    "def add(a, b):\n",
    "    return a + b"
   ]
  },
  {
   "cell_type": "code",
   "execution_count": 7,
   "id": "f9d7c7e3",
   "metadata": {},
   "outputs": [],
   "source": [
    "## Lambda Function\n",
    "\n",
    "add = lambda a, b: a + b"
   ]
  },
  {
   "cell_type": "markdown",
   "id": "255af025",
   "metadata": {},
   "source": [
    "Lambda functions are often used in functional programming and situations where a short function is needed as an argument to another function, such as map(), filter(), and sorted().\n",
    "\n",
    "Let's use map() and lambda to convert a list of integers to their squares:"
   ]
  },
  {
   "cell_type": "code",
   "execution_count": 8,
   "id": "68930c8c",
   "metadata": {},
   "outputs": [
    {
     "name": "stdout",
     "output_type": "stream",
     "text": [
      "[1, 4, 9, 16, 25]\n"
     ]
    }
   ],
   "source": [
    "numbers = [1, 2, 3, 4, 5]\n",
    "squared_numbers = map(lambda x: x**2, numbers)\n",
    "print(list(squared_numbers))  # Output: [1, 4, 9, 16, 25]\n"
   ]
  },
  {
   "cell_type": "markdown",
   "id": "8783295e",
   "metadata": {},
   "source": [
    "**Q5. How does the concept of \"scope\" apply to functions in Python? Explain the difference between local\n",
    "scope and global scope.**"
   ]
  },
  {
   "cell_type": "markdown",
   "id": "4f5473cc",
   "metadata": {},
   "source": [
    "**Answer 5:** In Python, \"scope\" refers to the region of a program where a variable or a name is accessible and can be referenced. The scope determines where a variable can be used and what parts of the code can access it. Understanding scope is crucial for avoiding naming conflicts, managing memory efficiently, and maintaining code readability.\n",
    "\n",
    "In Python, there are two main types of scopes related to functions: local scope and global scope.\n",
    "\n",
    "1. Local Scope:\n",
    "   Local scope refers to the area within a function where variables are defined and can only be accessed within that specific function. Any variable created inside a function is considered to have local scope and is not visible outside the function. When the function finishes executing, the local variables are destroyed, and their values are no longer accessible.\n",
    "   Example of local scope:\n"
   ]
  },
  {
   "cell_type": "code",
   "execution_count": 10,
   "id": "ff9cdfb7",
   "metadata": {},
   "outputs": [
    {
     "name": "stdout",
     "output_type": "stream",
     "text": [
      "10\n"
     ]
    }
   ],
   "source": [
    "def my_function():\n",
    "    x = 10  # Local variable x\n",
    "    print(x)\n",
    "\n",
    "my_function()\n",
    "# The following line will raise an error because x is not accessible outside the function.\n",
    "# print(x)\n",
    "\n",
    "# In this example, the variable x is defined within the my_function() function. It has local scope, and \n",
    "# it can only be accessed and used within the function."
   ]
  },
  {
   "cell_type": "markdown",
   "id": "2b1ed863",
   "metadata": {},
   "source": [
    "2. Global Scope:\n",
    "\n",
    "   Global scope refers to the area outside of any function, at the top level of the Python script or module. Variables defined at the global scope are accessible from any part of the code, including within functions. Global variables are available throughout the entire program, and their values persist until the program's execution ends.\n",
    "\n",
    "   Example of global scope:"
   ]
  },
  {
   "cell_type": "code",
   "execution_count": 11,
   "id": "de91ce44",
   "metadata": {},
   "outputs": [
    {
     "name": "stdout",
     "output_type": "stream",
     "text": [
      "100\n",
      "100\n"
     ]
    }
   ],
   "source": [
    "global_var = 100  # Global variable\n",
    "\n",
    "def my_function():\n",
    "    print(global_var)  # Accessing the global variable inside the function\n",
    "\n",
    "my_function()\n",
    "print(global_var)  # The global variable can also be accessed outside the function\n"
   ]
  },
  {
   "cell_type": "markdown",
   "id": "4bf169ac",
   "metadata": {},
   "source": [
    "**Q6. How can you use the \"return\" statement in a Python function to return multiple values?**"
   ]
  },
  {
   "cell_type": "markdown",
   "id": "a92576fb",
   "metadata": {},
   "source": [
    "**Answer 6:** In Python, you can use the \"return\" statement in a function to return multiple values by returning them as a tuple. A tuple is a data structure that can hold multiple elements of different data types. Here's how you can use the \"return\" statement to achieve this:"
   ]
  },
  {
   "cell_type": "code",
   "execution_count": 13,
   "id": "2233b39b",
   "metadata": {},
   "outputs": [
    {
     "name": "stdout",
     "output_type": "stream",
     "text": [
      "10\n",
      "Hello\n",
      "[1, 2, 3]\n"
     ]
    }
   ],
   "source": [
    "def return_multiple_values():\n",
    "    value1 = 10\n",
    "    value2 = \"Hello\"\n",
    "    value3 = [1, 2, 3]\n",
    "\n",
    "    return value1, value2, value3\n",
    "\n",
    "# Calling the function and unpacking the returned tuple into separate variables\n",
    "result1, result2, result3 = return_multiple_values()\n",
    "\n",
    "print(result1)  # Output: 10\n",
    "print(result2)  # Output: \"Hello\"\n",
    "print(result3)  # Output: [1, 2, 3]\n"
   ]
  },
  {
   "cell_type": "markdown",
   "id": "f1335c2c",
   "metadata": {},
   "source": [
    "In the example above, the function return_multiple_values() returns three different values (value1, value2, and value3) as a tuple. When calling the function and storing its return value in variables (result1, result2, and result3), Python automatically unpacks the tuple into these separate variables.\n",
    "\n",
    "Remember that using tuples in this way allows you to return multiple values, but it's important to keep in mind the order in which you return the values, as they will be unpacked in the same order when calling the function."
   ]
  },
  {
   "cell_type": "markdown",
   "id": "44379400",
   "metadata": {},
   "source": [
    "**Q7. What is the difference between the \"pass by value\" and \"pass by reference\" concepts when it comes to function arguments in Python?**"
   ]
  },
  {
   "cell_type": "markdown",
   "id": "7b8b2b40",
   "metadata": {},
   "source": [
    "**Answer 7:** The concepts of \"pass by value\" and \"pass by reference\" are often discussed in the context of function arguments, but it's essential to understand that Python uses a different mechanism called \"pass by object reference.\" This mechanism can sometimes be confusing, especially for those coming from languages that strictly follow \"pass by value\" or \"pass by reference\" paradigms. Let's delve into the differences:\n",
    "\n",
    "1. Pass by Value:\n",
    "\n",
    "   In languages that follow \"pass by value\" semantics, when you pass a variable as an argument to a function, a copy of the variable's value is created, and the function works with that copy. Any changes made to the copy inside the function do not affect the original variable outside the function.\n",
    "   \n",
    "   Example (in a hypothetical \"pass by value\" language):"
   ]
  },
  {
   "cell_type": "code",
   "execution_count": 14,
   "id": "2219eb5f",
   "metadata": {},
   "outputs": [
    {
     "name": "stdout",
     "output_type": "stream",
     "text": [
      "10\n"
     ]
    }
   ],
   "source": [
    "def increment(x):\n",
    "    x = x + 1\n",
    "\n",
    "num = 10\n",
    "increment(num)\n",
    "print(num)  # Output: 10 (unchanged because pass by value creates a copy)\n"
   ]
  },
  {
   "cell_type": "markdown",
   "id": "d31a3336",
   "metadata": {},
   "source": [
    "2. Pass by Reference:\n",
    "\n",
    "   In languages that follow \"pass by reference\" semantics, when you pass a variable as an argument to a function, you are passing a reference or memory address to the original variable. Any modifications made to the variable inside the function will directly affect the original variable outside the function.\n",
    "   \n",
    "   Example (in a hypothetical \"pass by reference\" language):"
   ]
  },
  {
   "cell_type": "code",
   "execution_count": 15,
   "id": "c87e68e2",
   "metadata": {},
   "outputs": [
    {
     "name": "stdout",
     "output_type": "stream",
     "text": [
      "[11, 20, 30]\n"
     ]
    }
   ],
   "source": [
    "def increment(lst):\n",
    "    lst[0] = lst[0] + 1\n",
    "\n",
    "my_list = [10, 20, 30]\n",
    "increment(my_list)\n",
    "print(my_list)  # Output: [11, 20, 30] (modified because pass by reference modifies the original)\n"
   ]
  },
  {
   "cell_type": "markdown",
   "id": "19c0ec8d",
   "metadata": {},
   "source": [
    "**Q8. Create a function that can intake integer or decimal value and do following operations:**\n",
    "\n",
    "**a. Logarithmic function (log x)**\n",
    "\n",
    "**b. Exponential function (exp(x))**\n",
    "\n",
    "**c. Power function with base 2(2^x)**\n",
    "\n",
    "**d. Square root**"
   ]
  },
  {
   "cell_type": "code",
   "execution_count": 16,
   "id": "c8ec6cb8",
   "metadata": {},
   "outputs": [
    {
     "name": "stdout",
     "output_type": "stream",
     "text": [
      "Logarithmic value: 1.252762968495368\n",
      "Exponential value: 33.11545195869231\n",
      "Power value (2^x): 11.313708498984761\n",
      "Square root: 1.8708286933869707\n"
     ]
    }
   ],
   "source": [
    "import math\n",
    "\n",
    "def math_operations(value):\n",
    "    log_value = math.log(value)\n",
    "    exp_value = math.exp(value)\n",
    "    power_value = 2 ** value\n",
    "    sqrt_value = math.sqrt(value)\n",
    "    \n",
    "    return log_value, exp_value, power_value, sqrt_value\n",
    "\n",
    "# Example usage:\n",
    "input_value = 3.5\n",
    "result = math_operations(input_value)\n",
    "print(\"Logarithmic value:\", result[0])\n",
    "print(\"Exponential value:\", result[1])\n",
    "print(\"Power value (2^x):\", result[2])\n",
    "print(\"Square root:\", result[3])\n"
   ]
  },
  {
   "cell_type": "markdown",
   "id": "9a6eb3e2",
   "metadata": {},
   "source": [
    "**Q9. Create a function that takes a full name as an argument and returns first name and last name.**"
   ]
  },
  {
   "cell_type": "code",
   "execution_count": 17,
   "id": "ea02571b",
   "metadata": {},
   "outputs": [
    {
     "name": "stdout",
     "output_type": "stream",
     "text": [
      "First Name: John\n",
      "Last Name: Doe\n"
     ]
    }
   ],
   "source": [
    "def get_first_last_name(full_name):\n",
    "    # Split the full name into individual words\n",
    "    name_parts = full_name.split()\n",
    "\n",
    "    # The last word is the last name\n",
    "    last_name = name_parts[-1]\n",
    "\n",
    "    # Join the remaining words as the first name\n",
    "    first_name = \" \".join(name_parts[:-1])\n",
    "\n",
    "    return first_name, last_name\n",
    "\n",
    "# Example usage:\n",
    "full_name = \"John Doe\"\n",
    "first_name, last_name = get_first_last_name(full_name)\n",
    "print(\"First Name:\", first_name)\n",
    "print(\"Last Name:\", last_name)\n"
   ]
  }
 ],
 "metadata": {
  "kernelspec": {
   "display_name": "Python 3 (ipykernel)",
   "language": "python",
   "name": "python3"
  },
  "language_info": {
   "codemirror_mode": {
    "name": "ipython",
    "version": 3
   },
   "file_extension": ".py",
   "mimetype": "text/x-python",
   "name": "python",
   "nbconvert_exporter": "python",
   "pygments_lexer": "ipython3",
   "version": "3.9.12"
  }
 },
 "nbformat": 4,
 "nbformat_minor": 5
}
