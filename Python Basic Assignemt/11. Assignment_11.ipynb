{
 "cells": [
  {
   "cell_type": "markdown",
   "id": "c4fafbac",
   "metadata": {},
   "source": [
    "# Assignment 11 Solution"
   ]
  },
  {
   "cell_type": "markdown",
   "id": "9114737c",
   "metadata": {},
   "source": [
    "**Q1. What is the role of the 'else' block in a try-except statement? Provide an example scenario where it would be useful.**"
   ]
  },
  {
   "cell_type": "markdown",
   "id": "99785275",
   "metadata": {},
   "source": [
    "**Answer 1 :** The `else` block in a try-except statement is executed when the code inside the try block does not raise any exceptions. It provides a way to specify a block of code that should be executed if no exceptions occur.\n",
    "\n",
    "Here's an example scenario where the `else` block can be useful:"
   ]
  },
  {
   "cell_type": "code",
   "execution_count": 1,
   "id": "3a949b2b",
   "metadata": {},
   "outputs": [
    {
     "name": "stdout",
     "output_type": "stream",
     "text": [
      "Division successful. Result: 5.0\n",
      "Error: Division by zero\n"
     ]
    }
   ],
   "source": [
    "def divide_numbers(a, b):\n",
    "    try:\n",
    "        result = a / b\n",
    "    except ZeroDivisionError:\n",
    "        print(\"Error: Division by zero\")\n",
    "    else:\n",
    "        print(\"Division successful. Result:\", result)\n",
    "\n",
    "# Example 1: Successful division\n",
    "divide_numbers(10, 2)  # Output: Division successful. Result: 5.0\n",
    "\n",
    "# Example 2: Division by zero\n",
    "divide_numbers(10, 0)  # Output: Error: Division by zero\n"
   ]
  },
  {
   "cell_type": "markdown",
   "id": "58446c4b",
   "metadata": {},
   "source": [
    "The `else` block is useful for separating the code that might raise exceptions from the code that should run only when no exceptions occur. It enhances the readability of the code and makes it clearer which part of the code is handling exceptional cases and which part is executed in the absence of exceptions."
   ]
  },
  {
   "cell_type": "markdown",
   "id": "65406288",
   "metadata": {},
   "source": [
    "**Q2. Can a try-except block be nested inside another try-except block? Explain with an example.**"
   ]
  },
  {
   "cell_type": "markdown",
   "id": "d081673a",
   "metadata": {},
   "source": [
    "**Amswer 2:** Yes, a try-except block can be nested inside another try-except block. This is known as nested exception handling, and it allows for handling exceptions at different levels of code. Each inner try-except block can handle specific exceptions locally, providing more granular control over error handling.\n",
    "\n",
    "Here's an example to illustrate nested try-except blocks:"
   ]
  },
  {
   "cell_type": "code",
   "execution_count": 2,
   "id": "1d120a33",
   "metadata": {},
   "outputs": [
    {
     "name": "stdout",
     "output_type": "stream",
     "text": [
      "Enter the numerator: 5\n",
      "Enter the denominator: 10\n",
      "Inner try block executed successfully. Result: 0.5\n",
      "Finally block always executes.\n"
     ]
    }
   ],
   "source": [
    "def nested_exception_handling():\n",
    "    try:\n",
    "        # Outer try block\n",
    "        numerator = int(input(\"Enter the numerator: \"))\n",
    "        denominator = int(input(\"Enter the denominator: \"))\n",
    "\n",
    "        try:\n",
    "            # Inner try block\n",
    "            result = numerator / denominator\n",
    "        except ZeroDivisionError:\n",
    "            print(\"Error: Division by zero in the inner try-except block\")\n",
    "        else:\n",
    "            print(\"Inner try block executed successfully. Result:\", result)\n",
    "\n",
    "    except ValueError:\n",
    "        print(\"Error: Invalid input. Please enter integers for numerator and denominator.\")\n",
    "    except Exception as e:\n",
    "        print(\"Outer try-except block caught an exception:\", e)\n",
    "    finally:\n",
    "        print(\"Finally block always executes.\")\n",
    "\n",
    "# Example usage\n",
    "nested_exception_handling()"
   ]
  },
  {
   "cell_type": "markdown",
   "id": "d8f73436",
   "metadata": {},
   "source": [
    "**Q3. How can you create a custom exception class in Python? Provide an example that demonstrates its usage.**"
   ]
  },
  {
   "cell_type": "markdown",
   "id": "08c18415",
   "metadata": {},
   "source": [
    "**Answer 3:** To create a custom exception class in Python, you can define a new class that inherits from the built-in `Exception` class or one of its subclasses. Typically, you would define your custom exception class to include additional attributes or methods that provide more information about the specific exception.\n",
    "\n",
    "Here's an example of creating a custom exception class called `CustomError`:"
   ]
  },
  {
   "cell_type": "code",
   "execution_count": 3,
   "id": "d2ba9d7d",
   "metadata": {},
   "outputs": [
    {
     "name": "stdout",
     "output_type": "stream",
     "text": [
      "CustomError caught: Invalid value. Must be non-negative.. Error Code: 1001\n"
     ]
    }
   ],
   "source": [
    "class CustomError(Exception):\n",
    "    def __init__(self, message, code):\n",
    "        super().__init__(message)\n",
    "        self.code = code\n",
    "\n",
    "# Example usage:\n",
    "\n",
    "def custom_function(value):\n",
    "    try:\n",
    "        if value < 0:\n",
    "            raise CustomError(\"Invalid value. Must be non-negative.\", 1001)\n",
    "        else:\n",
    "            print(\"Value is:\", value)\n",
    "\n",
    "    except CustomError as e:\n",
    "        print(f\"CustomError caught: {e}. Error Code: {e.code}\")\n",
    "\n",
    "# Test the custom function\n",
    "custom_function(-5)\n"
   ]
  },
  {
   "cell_type": "markdown",
   "id": "b2e00c90",
   "metadata": {},
   "source": [
    "**Q4. What are some common exceptions that are built-in to Python?**"
   ]
  },
  {
   "cell_type": "markdown",
   "id": "b148c52e",
   "metadata": {},
   "source": [
    "**Answer 4:** Python has a variety of built-in exceptions that cover a wide range of potential errors and issues. Here are some common built-in exceptions in Python:\n",
    "\n",
    "1. `SyntaxError`: Raised when there is a syntax error in the Python code.\n",
    "```Python\n",
    "# Example SyntaxError\n",
    "print \"Hello, World!\"  # Missing parentheses in Python 3\n",
    "```\n",
    "1. `IndentationError`: Raised when there is an incorrect indentation in the code.\n",
    "```python\n",
    "# Example IndentationError\n",
    "def my_function():\n",
    "print(\"Indented incorrectly\")  # Missing indentation\n",
    "```\n",
    "1. `NameError`: Raised when a local or global name is not found.\n",
    "```python\n",
    "# Example NameError\n",
    "print(undefined_variable)\n",
    "```\n",
    "1. `TypeError`: Raised when an operation or function is applied to an object of an inappropriate type.\n",
    "```python\n",
    "# Example TypeError\n",
    "result = \"5\" + 3  # Concatenation of string and integer\n",
    "```\n",
    "1. `ValueError`: Raised when a function receives an argument of the correct type but an inappropriate value.\n",
    "```python\n",
    "# Example ValueError\n",
    "int(\"abc\")  # String \"abc\" cannot be converted to an integer\n",
    "```\n",
    "1. `ZeroDivisionError`: Raised when division or modulo by zero is encountered.\n",
    "```python\n",
    "# Example ZeroDivisionError\n",
    "res = 5 / 0\n",
    "```\n",
    "1. `IndexError`: Raised when a sequence subscript is out of range.\n",
    "```python\n",
    "# Example IndexError\n",
    "my_list = [1, 2, 3]\n",
    "print(my_list[5])  # Index 5 is out of range for the list\n",
    "```\n",
    "1. `KeyError`: Raised when a dictionary key is not found.\n",
    "```python\n",
    "# Example KeyError\n",
    "my_dict = {'name': 'John'}\n",
    "print(my_dict['age'])  # 'age' key is not present in the dictionary\n",
    "```\n",
    "1. `FileNotFoundError`: Raised when a file or directory is requested but cannot be found.\n",
    "```python\n",
    "# Example FileNotFoundError\n",
    "with open('nonexistent_file.txt', 'r') as file:\n",
    "    content = file.read()\n",
    "```"
   ]
  },
  {
   "cell_type": "markdown",
   "id": "e802730f",
   "metadata": {},
   "source": [
    "**Q5. What is logging in Python, and why is it important in software development?**"
   ]
  },
  {
   "cell_type": "markdown",
   "id": "6d68fd79",
   "metadata": {},
   "source": [
    "**Answer 5:** Logging in Python refers to the process of recording events, messages, or information about the execution of a program. The `logging` module in Python provides a flexible and configurable framework for emitting log messages from Python programs.\n",
    "\n",
    "Here are key components of the logging module:\n",
    "\n",
    "1. `Logger`: The main entry point of the logging system. It is used to create log records. Loggers are organized in a hierarchical namespace.\n",
    "\n",
    "1. `Handler`: A handler determines what happens to each log message. It can write messages to the console, a file, send them over the network, etc.\n",
    "\n",
    "1. `Formatter`: A formatter defines the layout of the log messages. It specifies how log records are formatted before being emitted by a handler.\n",
    "\n",
    "1. `Level`: Loggers, handlers, and formatters use log levels to filter and control the verbosity of the log output. Common levels include DEBUG, INFO, WARNING, ERROR, and CRITICAL.\n",
    "\n",
    "+ **Why is logging important in software development?**\n",
    "\n",
    "1. `Debugging and Troubleshooting`: Logging is crucial for identifying and fixing issues in a program. Developers can include informative log messages at various points in the code to understand the flow of execution and identify potential problems.\n",
    "\n",
    "1. `Monitoring and Maintenance`: In production environments, logs are essential for monitoring the health and performance of applications. They help identify errors, anomalies, or patterns that may indicate issues.\n",
    "\n",
    "1. `Audit Trails`: Logging can be used to create audit trails, tracking user actions, and system events. This is valuable for security and compliance purposes.\n",
    "\n",
    "1. `Performance Analysis`: Log messages can include information about the execution time of certain operations or functions. This helps in profiling and optimizing the performance of the code.\n",
    "\n",
    "1. `Historical Analysis`: Logs provide a historical record of the application's behavior. This historical data can be useful for analyzing trends, understanding past issues, and making informed decisions.\n",
    "\n",
    "1. `User Support`: When troubleshooting issues reported by users, logs can provide valuable information to understand the context and sequence of events leading to the problem.\n",
    "\n",
    "1. `Security`: Logging is crucial for security analysis. It helps in tracking and identifying security-related events, such as unauthorized access attempts or suspicious activities.\n",
    "\n",
    "In summary, logging is a fundamental aspect of software development that contributes to the maintainability, reliability, and performance of applications. Properly configured and utilized logs provide valuable insights into the behavior of the system, making it easier to diagnose problems and improve overall software quality."
   ]
  },
  {
   "cell_type": "markdown",
   "id": "e8532129",
   "metadata": {},
   "source": [
    "**Q6. Explain the purpose of log levels in Python logging and provide examples of when each log level would be appropriate.**"
   ]
  },
  {
   "cell_type": "markdown",
   "id": "c8699f19",
   "metadata": {},
   "source": [
    "**Answer 6:** Log levels in Python logging are used to categorize and prioritize log messages based on their severity or importance. The logging module defines several standard log levels, each serving a specific purpose. Here are the common log levels, in decreasing order of severity:\n",
    "\n",
    "1. `DEBUG (10)`: Detailed information, typically useful for debugging. These messages provide insights into the internal workings of the program.\n",
    "```python\n",
    "import logging\n",
    "logging.debug(\"This is a debug message\")\n",
    "```\n",
    "1. `INFO (20)`: General information about the program's execution. This level is used to confirm that things are working as expected.\n",
    "```python\n",
    "import logging\n",
    "logging.info(\"This is an informational message\")\n",
    "```\n",
    "1. `WARNING (30)`: Indicates a potential issue that doesn't prevent the program from running but might need attention. It's a yellow flag.\n",
    "```python\n",
    "import logging\n",
    "logging.warning(\"This is a warning message\")\n",
    "```\n",
    "1. `ERROR (40)`: Indicates a more serious issue that prevented the program from performing a specific operation. It's a red flag.\n",
    "```python\n",
    "import logging\n",
    "logging.error(\"This is an error message\")\n",
    "```\n",
    "1. `CRITICAL (50)`: Indicates a critical error that may lead to a program's failure. It's the highest severity level.\n",
    "```python\n",
    "import logging\n",
    "logging.critical(\"This is a critical message\")\n",
    "```\n",
    "By setting the log level for a logger, you can control which messages are captured and output. For example, setting the log level to INFO would capture messages at the INFO, WARNING, ERROR, and CRITICAL levels, but not the DEBUG messages. This helps filter out less important messages in production environments."
   ]
  },
  {
   "cell_type": "code",
   "execution_count": 4,
   "id": "252b002c",
   "metadata": {},
   "outputs": [
    {
     "name": "stderr",
     "output_type": "stream",
     "text": [
      "INFO:root:This info message will be captured\n",
      "WARNING:root:This warning message will be captured\n"
     ]
    }
   ],
   "source": [
    "import logging\n",
    "\n",
    "# Set the log level to INFO\n",
    "logging.basicConfig(level=logging.INFO)\n",
    "\n",
    "logging.debug(\"This debug message won't be captured\")\n",
    "logging.info(\"This info message will be captured\")\n",
    "logging.warning(\"This warning message will be captured\")"
   ]
  },
  {
   "cell_type": "markdown",
   "id": "f880f426",
   "metadata": {},
   "source": [
    "The use of log levels allows developers to fine-tune the amount of detail in log output, making it easier to identify and diagnose issues. In production environments, it's common to set the log level to a higher value (e.g., INFO or WARNING) to avoid cluttering logs with verbose debugging information."
   ]
  },
  {
   "cell_type": "markdown",
   "id": "57b30de0",
   "metadata": {},
   "source": [
    "**Q7. What are log formatters in Python logging, and how can you customise the log message format using formatters?**"
   ]
  },
  {
   "cell_type": "markdown",
   "id": "836f8f54",
   "metadata": {},
   "source": [
    "**Answer 7:** Log formatters in Python logging are responsible for determining the layout and structure of log messages. They allow you to customize the way log records are presented in the output, whether it's the console, a file, or another destination. Formatters work in conjunction with handlers to format log records before they are emitted.\n",
    "\n",
    "The `logging` module provides a `Formatter` class that you can use to create custom log message formats. Here's a basic example of using a formatter:"
   ]
  },
  {
   "cell_type": "code",
   "execution_count": 5,
   "id": "c291bd95",
   "metadata": {},
   "outputs": [
    {
     "name": "stderr",
     "output_type": "stream",
     "text": [
      "2024-01-17 17:11:29,796 - DEBUG - This is a debug message\n",
      "DEBUG:custom_logger:This is a debug message\n",
      "2024-01-17 17:11:29,799 - INFO - This is an info message\n",
      "INFO:custom_logger:This is an info message\n",
      "2024-01-17 17:11:29,804 - WARNING - This is a warning message\n",
      "WARNING:custom_logger:This is a warning message\n",
      "2024-01-17 17:11:29,806 - ERROR - This is an error message\n",
      "ERROR:custom_logger:This is an error message\n",
      "2024-01-17 17:11:29,812 - CRITICAL - This is a critical message\n",
      "CRITICAL:custom_logger:This is a critical message\n"
     ]
    }
   ],
   "source": [
    "import logging\n",
    "\n",
    "# Create a formatter with a custom log message format\n",
    "formatter = logging.Formatter('%(asctime)s - %(levelname)s - %(message)s')\n",
    "\n",
    "# Create a handler (e.g., StreamHandler) and set the formatter\n",
    "handler = logging.StreamHandler()\n",
    "handler.setFormatter(formatter)\n",
    "\n",
    "# Create a logger, add the handler, and set the log level\n",
    "logger = logging.getLogger('custom_logger')\n",
    "logger.addHandler(handler)\n",
    "logger.setLevel(logging.DEBUG)\n",
    "\n",
    "# Log messages\n",
    "logger.debug('This is a debug message')\n",
    "logger.info('This is an info message')\n",
    "logger.warning('This is a warning message')\n",
    "logger.error('This is an error message')\n",
    "logger.critical('This is a critical message')\n"
   ]
  },
  {
   "cell_type": "markdown",
   "id": "9dc206ae",
   "metadata": {},
   "source": [
    "In this example, the Formatter class is instantiated with a format string containing placeholders. The commonly used placeholders include:\n",
    "\n",
    "+ %(asctime)s: The time of the log record.\n",
    "+ %(levelname)s: The log level (e.g., DEBUG, INFO, WARNING).\n",
    "+ %(message)s: The log message itself.\n",
    "+ Additional placeholders like %(filename)s, %(lineno)d, etc.\n",
    "\n",
    "You can customize the format string according to your preferences and needs.\n",
    "\n",
    "Here's another example that includes additional information in the log format:"
   ]
  },
  {
   "cell_type": "code",
   "execution_count": 6,
   "id": "8fa8b57e",
   "metadata": {},
   "outputs": [
    {
     "name": "stderr",
     "output_type": "stream",
     "text": [
      "2024-01-17 17:11:29,836 - INFO - This log message includes module and line number information\n",
      "2024-01-17 17:11:29,836 - INFO - 1095773096:12 - This log message includes module and line number information\n",
      "INFO:custom_logger:This log message includes module and line number information\n"
     ]
    }
   ],
   "source": [
    "import logging\n",
    "\n",
    "formatter = logging.Formatter('%(asctime)s - %(levelname)s - %(module)s:%(lineno)d - %(message)s')\n",
    "\n",
    "handler = logging.StreamHandler()\n",
    "handler.setFormatter(formatter)\n",
    "\n",
    "logger = logging.getLogger('custom_logger')\n",
    "logger.addHandler(handler)\n",
    "logger.setLevel(logging.DEBUG)\n",
    "\n",
    "logger.info('This log message includes module and line number information')\n"
   ]
  },
  {
   "cell_type": "markdown",
   "id": "de0514d1",
   "metadata": {},
   "source": [
    "By setting a custom format for your log messages, you can include relevant details, making it easier to analyze and understand the logs during debugging or monitoring."
   ]
  },
  {
   "cell_type": "markdown",
   "id": "771a937d",
   "metadata": {},
   "source": [
    "**Q8. How can you set up logging to capture log messages from multiple modules or classes in a Python application?**"
   ]
  },
  {
   "cell_type": "markdown",
   "id": "04898ccc",
   "metadata": {},
   "source": [
    "**Answer 8:** In Python, you can use the built-in logging module to set up logging and capture log messages from multiple modules or classes in your application. Here's a basic guide on how to do this:\n",
    "1. `Import the logging module:` Import the logging module at the beginning of your Python script or module.\n",
    "```python\n",
    "import logging\n",
    "```\n",
    "1. `Configure the logging settings:` \n",
    "Configure the logging settings using basicConfig or a more advanced configuration if needed. This typically includes setting the logging level, the format of log messages, and specifying a file to write logs.\n",
    "```python\n",
    "logging.basicConfig(level=logging.INFO,\n",
    "                    format='%(asctime)s - %(name)s - %(levelname)s - %(message)s',\n",
    "                    filename='example.log')\n",
    "```\n",
    "Adjust the level parameter to set the minimum severity level of messages to capture. The available levels, in increasing order of severity, are `DEBUG`, `INFO`, `WARNING`, `ERROR`, and `CRITICAL`.\n",
    "\n",
    "1. `Create loggers for each module or class:`\n",
    "Create a logger for each module or class that you want to capture log messages from. You can use __name__ as the logger name to automatically use the module or class name.\n",
    "```python\n",
    "logger = logging.getLogger(__name__)\n",
    "```\n",
    "1. `Use the logger to log messages:`\n",
    "Throughout your code, use the logger to log messages with different severity levels. For example:\n",
    "```python\n",
    "logger.debug('This is a debug message')\n",
    "logger.info('This is an info message')\n",
    "logger.warning('This is a warning message')\n",
    "logger.error('This is an error message')\n",
    "logger.critical('This is a critical message')\n",
    "```\n",
    "1. `Adjust log levels as needed:`\n",
    "You can dynamically adjust the logging level during runtime. For example, to change the logging level to DEBUG:\n",
    "```python\n",
    "logging.getLogger().setLevel(logging.DEBUG)\n",
    "```\n",
    "This will capture all log messages, including those with lower severity levels (e.g., `DEBUG`, `INFO`).\n",
    "\n",
    "By following these steps, you can set up logging to capture log messages from multiple modules or classes in your Python application. It provides a flexible and powerful way to manage and analyze the logs generated by your application."
   ]
  },
  {
   "cell_type": "markdown",
   "id": "7ad78ca9",
   "metadata": {},
   "source": [
    "**Q9. What is the difference between the logging and print statements in Python? When should you use logging over print statements in a real-world application?**"
   ]
  },
  {
   "cell_type": "markdown",
   "id": "e6e1501a",
   "metadata": {},
   "source": [
    "**Answer 9:** Both logging and print statements in Python are used for outputting information, but they serve different purposes and are suitable for different scenarios.\n",
    "\n",
    "### Logging:\n",
    "\n",
    "1. `Levels of Severity:`\n",
    "    * Logging provides different levels of severity (DEBUG, INFO, WARNING, ERROR, CRITICAL). This allows you to control the verbosity of your logs and filter them based on importance.\n",
    "1. `Configurability:`\n",
    "    * Logging is highly configurable. You can easily change the log level, format, and destination (e.g., file, console) without modifying your code.\n",
    "1. `Destination Options:`\n",
    "    * Logs can be directed to different outputs (files, console, email, network, etc.), making it easier to manage and analyze them in a centralized manner.\n",
    "1. `Integration with Libraries:`\n",
    "    * Many libraries and frameworks use the logging module, allowing for a consistent approach to logging across different parts of your application.\n",
    "    \n",
    "### Print Statements:\n",
    "\n",
    "1. `Simplicity:`\n",
    "    * print statements are simple and easy to use. They are quick for debugging and can be a convenient way to see values or messages during development.\n",
    "1. `Readability:`\n",
    "    * For quick debugging or displaying information during development, print statements might be more straightforward and readable in some cases.\n",
    "1. `No Configuration Overhead:`\n",
    "    * There is minimal configuration overhead with print statements. You just insert them where needed."
   ]
  },
  {
   "cell_type": "markdown",
   "id": "c60f18d7",
   "metadata": {},
   "source": [
    "### When to use logging over print statements in a real-world application:\n",
    "\n",
    "1. `Debugging vs. Production:`\n",
    "    * During development and debugging, print statements can be quick and easy. However, in a production environment, it's better to use logging for proper log management.\n",
    "2. `Long-Term Maintenance:`\n",
    "    * For a larger or long-term project, using logging is more scalable and maintainable. It provides a standardized way to manage logs across various parts of your application.\n",
    "3. `Error Tracking:`\n",
    "    * In production, logging is essential for error tracking. It allows you to capture and analyze errors systematically.\n",
    "4. `Integration with External Systems:`\n",
    "    * If you need to integrate logs with external systems (e.g., log analyzers, monitoring tools), using logging provides better integration options.\n",
    "    \n",
    "In summary, while print statements are quick and easy for development and debugging, logging is more powerful and configurable for real-world applications, especially in production environments where proper log management is crucial. It allows for better control, analysis, and maintenance of logs over the life of a project."
   ]
  },
  {
   "cell_type": "markdown",
   "id": "0339e4c3",
   "metadata": {},
   "source": [
    "**Q10 : Write a Python program that logs a message to a file named \"app.log\" with the\n",
    "following requirements:**\n",
    "* The log message should be \"Hello, World!\"\n",
    "* The log level should be set to \"INFO.\"\n",
    "* The log file should append new log entries without overwriting previous ones"
   ]
  },
  {
   "cell_type": "markdown",
   "id": "8ce68ff3",
   "metadata": {},
   "source": [
    "**Answer 10 :** Here's a simple Python program that logs the message \"Hello, World!\" with an INFO log level to a file named \"app.log,\" and appends new log entries without overwriting the previous ones:"
   ]
  },
  {
   "cell_type": "code",
   "execution_count": 8,
   "id": "8c0df5cb",
   "metadata": {},
   "outputs": [
    {
     "name": "stderr",
     "output_type": "stream",
     "text": [
      "INFO:root:Hello, World!\n"
     ]
    }
   ],
   "source": [
    "import logging\n",
    "\n",
    "# Configure the logging settings\n",
    "logging.basicConfig(\n",
    "    filename='app.log',  # Specify the log file\n",
    "    level=logging.INFO,   # Set the log level to INFO\n",
    "    format='%(asctime)s - %(levelname)s - %(message)s'  # Define the log message format\n",
    ")\n",
    "\n",
    "# Log the message \"Hello, World!\" with INFO log level\n",
    "logging.info('Hello, World!')\n"
   ]
  },
  {
   "cell_type": "markdown",
   "id": "bac33171",
   "metadata": {},
   "source": [
    "This program does the following:\n",
    "\n",
    "1. Configures the logging settings using basicConfig.\n",
    "2. Specifies the log file as \"app.log\" using the filename parameter.\n",
    "3. Sets the log level to INFO using the level parameter.\n",
    "4. Defines the log message format using the format parameter.\n",
    "5. Logs the message \"Hello, World!\" with an INFO log level using logging.info().\n",
    "\n",
    "Each time you run this program, a new log entry will be appended to the \"app.log\" file without overwriting the previous ones. Adjust the file path and name as needed for your application."
   ]
  },
  {
   "cell_type": "markdown",
   "id": "39ece756",
   "metadata": {},
   "source": [
    "**Q11. Create a Python program that logs an error message to the console and a file named \"errors.log\" if an exception occurs during the program's execution. The error message should include the exception type and a timestamp.**"
   ]
  },
  {
   "cell_type": "markdown",
   "id": "d7867cc3",
   "metadata": {},
   "source": [
    "**Answer 11.:** Here's a simple Python program that logs an error message to the console and a file named \"errors.log\" if an exception occurs, including the exception type and a timestamp:"
   ]
  },
  {
   "cell_type": "code",
   "execution_count": 9,
   "id": "b4f3856a",
   "metadata": {},
   "outputs": [
    {
     "name": "stdout",
     "output_type": "stream",
     "text": [
      "Enter the numerator: 5\n",
      "Enter the denominator: a\n"
     ]
    },
    {
     "name": "stderr",
     "output_type": "stream",
     "text": [
      "ERROR:root:Exception Type: ValueError, Timestamp: 2024-01-17 17:53:43.095762\n",
      "ERROR:root:Traceback (most recent call last):\n",
      "  File \"C:\\Users\\Hans Raj\\AppData\\Local\\Temp\\ipykernel_9152\\3720398696.py\", line 19, in <cell line: 17>\n",
      "    denominator = int(input(\"Enter the denominator: \"))\n",
      "ValueError: invalid literal for int() with base 10: 'a'\n",
      "\n"
     ]
    }
   ],
   "source": [
    "import logging\n",
    "import traceback\n",
    "from datetime import datetime\n",
    "\n",
    "# Configure the logging settings\n",
    "logging.basicConfig(\n",
    "    level=logging.ERROR,  # Set the log level to ERROR to capture only errors\n",
    "    format='%(asctime)s - %(levelname)s - %(message)s',  # Define the log message format\n",
    ")\n",
    "\n",
    "# Configure a file handler to log errors to \"errors.log\"\n",
    "file_handler = logging.FileHandler('errors.log')\n",
    "file_handler.setLevel(logging.ERROR)\n",
    "file_handler.setFormatter(logging.Formatter('%(asctime)s - %(levelname)s - %(message)s'))\n",
    "logging.getLogger().addHandler(file_handler)\n",
    "\n",
    "try:\n",
    "    numerator = int(input(\"Enter the numerator: \"))\n",
    "    denominator = int(input(\"Enter the denominator: \"))\n",
    "    result = numerator / denominator\n",
    "    print(\" Result:\", result)\n",
    "    # Simulate an exception for demonstration purposes\n",
    "    raise ValueError(\"This is a sample exception.\")\n",
    "\n",
    "except Exception as e:\n",
    "    # Log the exception to the console and \"errors.log\"\n",
    "    logging.error(f'Exception Type: {type(e).__name__}, Timestamp: {datetime.now()}')\n",
    "    logging.error(traceback.format_exc())\n"
   ]
  },
  {
   "cell_type": "code",
   "execution_count": null,
   "id": "8bc380cc",
   "metadata": {},
   "outputs": [],
   "source": []
  },
  {
   "cell_type": "code",
   "execution_count": null,
   "id": "617e8cb7",
   "metadata": {},
   "outputs": [],
   "source": []
  }
 ],
 "metadata": {
  "kernelspec": {
   "display_name": "Python 3 (ipykernel)",
   "language": "python",
   "name": "python3"
  },
  "language_info": {
   "codemirror_mode": {
    "name": "ipython",
    "version": 3
   },
   "file_extension": ".py",
   "mimetype": "text/x-python",
   "name": "python",
   "nbconvert_exporter": "python",
   "pygments_lexer": "ipython3",
   "version": "3.9.12"
  }
 },
 "nbformat": 4,
 "nbformat_minor": 5
}
