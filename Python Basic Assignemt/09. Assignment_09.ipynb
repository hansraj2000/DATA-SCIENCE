{
 "cells": [
  {
   "cell_type": "markdown",
   "id": "7f77268c",
   "metadata": {},
   "source": [
    "# Assignment 09 Solutions"
   ]
  },
  {
   "cell_type": "markdown",
   "id": "e23fc34a",
   "metadata": {},
   "source": [
    "#### Q1. What is a lambda function in Python, and how does it differ from a regular function?"
   ]
  },
  {
   "cell_type": "markdown",
   "id": "4fcdf0f5",
   "metadata": {},
   "source": [
    "**Answer 1:** Lambda functions are also sometimes referred to as \"anonymous functions\" because they don't have a name like regular functions.\n",
    "\n",
    "Here's an example of a regular function and its equivalent lambda function:\n",
    "\n",
    "Regular function:\n",
    "`def add(x, y):\n",
    "\t\t\t\t  return x + y\n",
    "`\n",
    "\n",
    "Lambda function:\n",
    "` add = lambda x, y: x + y\n",
    "\t\t\t\tresult = add(3, 5)\n",
    "\t\t\t\tprint(result)  # Output: 8\n",
    "`\n",
    "\n",
    "Differences between lambda functions and regular (named) functions:\n",
    "\n",
    "1. **Syntax and Naming:** Lambda functions have a more concise and anonymous syntax. They don't require a function name like regular functions do.\n",
    "\n",
    "2. **Single Expression:** Lambda functions are limited to a single expression, which means they can't contain multiple statements or complex logic like regular functions.\n",
    "\n",
    "3. **Scope:** Lambda functions are typically used for simple, one-off tasks and are often defined locally within the context where they're used. Regular functions can have a broader scope and can be defined globally or locally as needed.\n",
    "\n",
    "4. **Return:** Lambda functions automatically return the result of their expression. Regular functions require an explicit return statement to return a value.\n",
    "\n",
    "5. **Readability and Maintenance:** While lambda functions can make code shorter, they can also reduce readability if they become too complex. Regular named functions are often preferred for more complex logic or functions that will be reused multiple times, as they provide better organization and documentation.\n",
    "\n",
    "Lambda functions are often used as arguments to higher-order functions like map(), filter(), and sorted(), where you need to pass a function as an argument without explicitly defining a named function. For example:"
   ]
  },
  {
   "cell_type": "code",
   "execution_count": 2,
   "id": "615694c3",
   "metadata": {},
   "outputs": [
    {
     "name": "stdout",
     "output_type": "stream",
     "text": [
      "[1, 4, 9, 16, 25]\n",
      "[2, 4]\n"
     ]
    }
   ],
   "source": [
    "numbers = [1, 2, 3, 4, 5]\n",
    "squared = list(map(lambda x: x ** 2, numbers))\n",
    "even_numbers = list(filter(lambda x: x % 2 == 0, numbers))\n",
    "print(squared)\n",
    "print(even_numbers)"
   ]
  },
  {
   "cell_type": "markdown",
   "id": "eee2f9a7",
   "metadata": {},
   "source": [
    "#### Q2, Can a lambda function in Python have multiple arguments? If yes, how can you define and use them?"
   ]
  },
  {
   "cell_type": "markdown",
   "id": "7dc3df5f",
   "metadata": {},
   "source": [
    "**Answer 2:** Here's an example of a lambda function with multiple arguments:"
   ]
  },
  {
   "cell_type": "code",
   "execution_count": 3,
   "id": "21b34c66",
   "metadata": {},
   "outputs": [
    {
     "name": "stdout",
     "output_type": "stream",
     "text": [
      "15\n"
     ]
    }
   ],
   "source": [
    "multiply = lambda x, y: x * y\n",
    "result = multiply(3, 5)\n",
    "print(result)  # Output: 15"
   ]
  },
  {
   "cell_type": "markdown",
   "id": "ebb73572",
   "metadata": {},
   "source": [
    "Lambda functions with multiple arguments are commonly used in situations where you need to perform simple operations on those arguments, especially when passing them as arguments to higher-order functions like map(), filter(), or sorted(). For instance:"
   ]
  },
  {
   "cell_type": "code",
   "execution_count": 4,
   "id": "131ef091",
   "metadata": {},
   "outputs": [],
   "source": [
    "numbers = [1, 2, 3, 4, 5]\n",
    "doubled = list(map(lambda x: x * 2, numbers))\n",
    "filtered = list(filter(lambda x: x % 2 == 0, numbers))"
   ]
  },
  {
   "cell_type": "code",
   "execution_count": 6,
   "id": "c0373c80",
   "metadata": {},
   "outputs": [
    {
     "name": "stdout",
     "output_type": "stream",
     "text": [
      "[2, 4, 6, 8, 10]\n",
      "[2, 4]\n"
     ]
    }
   ],
   "source": [
    "print(doubled)\n",
    "print(filtered)"
   ]
  },
  {
   "cell_type": "markdown",
   "id": "52f44e93",
   "metadata": {},
   "source": [
    "#### Q3. How are lambda functions typically used in Python? Provide an example use case."
   ]
  },
  {
   "cell_type": "markdown",
   "id": "3beb899f",
   "metadata": {},
   "source": [
    "**Answer 3:** Here's an example use case of lambda functions in Python:\n",
    "\n",
    "Suppose you have a list of tuples representing people's names and ages, and you want to sort the list based on the ages of the individuals. You can use the sorted() function and a lambda function to achieve this:"
   ]
  },
  {
   "cell_type": "code",
   "execution_count": 7,
   "id": "d8a23fb5",
   "metadata": {},
   "outputs": [
    {
     "name": "stdout",
     "output_type": "stream",
     "text": [
      "[('Eve', 22), ('Alice', 25), ('David', 28), ('Bob', 30)]\n"
     ]
    }
   ],
   "source": [
    "people = [(\"Alice\", 25), (\"Bob\", 30), (\"Eve\", 22), (\"David\", 28)]\n",
    "\n",
    "sorted_by_age = sorted(people, key=lambda person: person[1])\n",
    "print(sorted_by_age)"
   ]
  },
  {
   "cell_type": "markdown",
   "id": "3be65fa4",
   "metadata": {},
   "source": [
    "Other common use cases for lambda functions include:\n",
    "\n",
    "1. **Mapping:** Applying a transformation to each element of a list using `map()`.\n",
    "\n",
    "2. **Filtering:** Selecting specific elements from a list using `filter()`.\n",
    "\n",
    "3. **Sorting:** Providing a custom sorting key to the `sorted()` function.\n",
    "\n",
    "4. **Callbacks:** Defining quick, inline functions as callbacks in various contexts.\n",
    "\n",
    "5. **Mathematical operations:** Performing simple arithmetic or calculations on values.\n",
    "\n",
    "6. **Short-lived tasks:** Situations where defining a named function would be overkill or less readable."
   ]
  },
  {
   "cell_type": "markdown",
   "id": "65c2a3cc",
   "metadata": {},
   "source": [
    "#### Q4. What are the advantages and limitations of lambda functions compared to regular functions in Python?"
   ]
  },
  {
   "cell_type": "markdown",
   "id": "1f9cc631",
   "metadata": {},
   "source": [
    "**Answer 4:**\n",
    "* Advantages of Lambda Functions:\n",
    "\n",
    "1. Conciseness: Lambda functions allow you to express simple operations in a more concise and compact manner. This is especially useful for short, one-off tasks where defining a full named function would be excessive.\n",
    "\n",
    "2. Readability: In some cases, lambda functions can improve readability by making the code more focused on the actual operation being performed, without distractions from function names and structure.\n",
    "\n",
    "3. Inline Usage: Lambda functions are often used inline as arguments to higher-order functions like map(), filter(), and sorted(), reducing the need for defining separate named functions.\n",
    "\n",
    "4. Reduced Overhead: Lambda functions are created and discarded more easily, leading to slightly less memory overhead compared to named functions.\n",
    "\n",
    "* Limitations of Lambda Functions:\n",
    "\n",
    "1. Limited Complexity: Lambda functions are restricted to a single expression, which means they cannot contain multiple statements or complex logic. This limitation makes them unsuitable for more intricate tasks.\n",
    "\n",
    "2. Lack of Documentation: Lambda functions lack the ability to include docstrings (documentation strings), making them less suitable for communicating the purpose and usage of the function to others.\n",
    "\n",
    "3. Reduced Reusability: Lambda functions are typically used for specific, short-lived tasks. They are not well-suited for functions that need to be reused in multiple places throughout your codebase.\n",
    "\n",
    "4. Debugging Challenges: When debugging, lambda functions can be more challenging to inspect and understand compared to named functions, especially in more complex scenarios.\n",
    "\n",
    "5. Less Intuitive for Beginners: For those new to Python, lambda syntax might be less intuitive and harder to understand than the more familiar syntax of regular functions.\n",
    "\n",
    "6. Limited Functionality: While lambda functions are versatile for simple tasks, they lack the full range of features that regular functions offer, such as default arguments, variable annotations, and decorators."
   ]
  },
  {
   "cell_type": "markdown",
   "id": "8636d8bb",
   "metadata": {},
   "source": [
    "#### Q5. Are lambda functions in Python able to access variables defined outside of their own scope? Explain with an example."
   ]
  },
  {
   "cell_type": "markdown",
   "id": "5a77d6f6",
   "metadata": {},
   "source": [
    "**Answer 5:** lambda functions in Python can access variables that are defined outside of their own scope. These variables are known as \"closed-over\" variables or \"captured\" variables. Lambda functions can access and use these variables just like any other function, provided those variables are in the enclosing scope when the lambda is created."
   ]
  },
  {
   "cell_type": "code",
   "execution_count": 9,
   "id": "e31b4b9e",
   "metadata": {},
   "outputs": [
    {
     "name": "stdout",
     "output_type": "stream",
     "text": [
      "25\n"
     ]
    }
   ],
   "source": [
    "def outer_function(x):\n",
    "    inner_function = lambda y: x + y\n",
    "    return inner_function\n",
    "\n",
    "closure = outer_function(10)\n",
    "\n",
    "result = closure(15)\n",
    "print(result)  # Output: 25\n"
   ]
  },
  {
   "cell_type": "markdown",
   "id": "c38880d4",
   "metadata": {},
   "source": [
    "#### Q6. Write a lambda function to calculate the square of a given number."
   ]
  },
  {
   "cell_type": "code",
   "execution_count": 11,
   "id": "eddc95c4",
   "metadata": {},
   "outputs": [
    {
     "name": "stdout",
     "output_type": "stream",
     "text": [
      "Enter a number : 25\n",
      "625\n"
     ]
    }
   ],
   "source": [
    "## Answer 6:\n",
    "\n",
    "square = lambda x: x ** 2\n",
    "\n",
    "# Example usage\n",
    "number = int(input(\"Enter a number : \"))\n",
    "result = square(number)\n",
    "print(result)  # Output: 25\n"
   ]
  },
  {
   "cell_type": "markdown",
   "id": "b8150383",
   "metadata": {},
   "source": [
    "#### Q7. Create a lambda function to find the maximum value in a list of integers."
   ]
  },
  {
   "cell_type": "code",
   "execution_count": 12,
   "id": "b9b378fb",
   "metadata": {},
   "outputs": [
    {
     "name": "stdout",
     "output_type": "stream",
     "text": [
      "67\n"
     ]
    }
   ],
   "source": [
    "## Answer 7:\n",
    "\n",
    "find_max = lambda lst: max(lst)\n",
    "\n",
    "# Example usage\n",
    "numbers = [12, 45, 23, 67, 9, 56]\n",
    "max_value = find_max(numbers)\n",
    "print(max_value)  # Output: 67\n"
   ]
  },
  {
   "cell_type": "markdown",
   "id": "47c6d5ff",
   "metadata": {},
   "source": [
    "#### Q8. Implement a lambda function to filter out all the even numbers from a list of integers."
   ]
  },
  {
   "cell_type": "code",
   "execution_count": 17,
   "id": "037a85e3",
   "metadata": {},
   "outputs": [
    {
     "name": "stdout",
     "output_type": "stream",
     "text": [
      "[12, 56, 100, 66]\n"
     ]
    }
   ],
   "source": [
    "## Answer 8:\n",
    "\n",
    "filter_even = lambda lst: list(filter(lambda x: x % 2 == 0, lst))\n",
    "\n",
    "# Example usage\n",
    "numbers = [12, 45, 23, 67, 9, 56, 100, 59, 66]\n",
    "even_numbers = filter_even(numbers)\n",
    "print(even_numbers)  "
   ]
  },
  {
   "cell_type": "markdown",
   "id": "90f622d2",
   "metadata": {},
   "source": [
    "#### Q9. Write a lambda function to sort a list of strings in ascending order based on the length of each string."
   ]
  },
  {
   "cell_type": "code",
   "execution_count": 20,
   "id": "b6838cce",
   "metadata": {},
   "outputs": [
    {
     "name": "stdout",
     "output_type": "stream",
     "text": [
      "['fig', 'date', 'apple', 'banana', 'cherry']\n"
     ]
    }
   ],
   "source": [
    "## Answer 9:\n",
    "\n",
    "sort_by_length = lambda lst: sorted(lst, key=lambda x: len(x))\n",
    "\n",
    "# Example usage\n",
    "strings = [\"apple\", \"banana\", \"cherry\", \"date\", \"fig\"]\n",
    "sorted_strings = sort_by_length(strings)\n",
    "print(sorted_strings)"
   ]
  },
  {
   "cell_type": "markdown",
   "id": "0ecdc27e",
   "metadata": {},
   "source": [
    "#### Q10. Create a lambda function that takes two lists as input and returns a new list containing the common elements between the two lists."
   ]
  },
  {
   "cell_type": "code",
   "execution_count": 22,
   "id": "c034d597",
   "metadata": {},
   "outputs": [
    {
     "name": "stdout",
     "output_type": "stream",
     "text": [
      "[3, 4, 10, 5]\n"
     ]
    }
   ],
   "source": [
    "## Answer 10:\n",
    "\n",
    "find_common_elements = lambda list1, list2: list(filter(lambda x: x in list2, list1))\n",
    "\n",
    "# Example usage\n",
    "list1 = [1, 2, 3, 4, 10, 5]\n",
    "list2 = [3, 4, 5, 6, 7, 10]\n",
    "common_elements = find_common_elements(list1, list2)\n",
    "print(common_elements)  # Output: [3, 4, 5]\n"
   ]
  },
  {
   "cell_type": "markdown",
   "id": "c9ff0dd0",
   "metadata": {},
   "source": [
    "#### Q11. Write a recursive function to calculate the factorial of a given positive integer."
   ]
  },
  {
   "cell_type": "code",
   "execution_count": 8,
   "id": "3957850d",
   "metadata": {},
   "outputs": [
    {
     "name": "stdout",
     "output_type": "stream",
     "text": [
      "Enter a positive integer: 10\n",
      "10 9 8 7 6 5 4 3 2 The factorial of 10 is 3628800\n"
     ]
    }
   ],
   "source": [
    "## Answwer 11:\n",
    "\n",
    "def factorial(n):\n",
    "    if n == 0 or n == 1:\n",
    "        return 1\n",
    "    else:\n",
    "        print(n, end =\" \")\n",
    "        return n * factorial(n - 1)\n",
    "\n",
    "# Test the function\n",
    "num = int(input(\"Enter a positive integer: \"))\n",
    "if num < 0:\n",
    "    print(\"Factorial is not defined for negative numbers.\")\n",
    "else:\n",
    "    result = factorial(num)\n",
    "    print(f\"The factorial of {num} is {result}\")\n"
   ]
  },
  {
   "cell_type": "markdown",
   "id": "16b815c2",
   "metadata": {},
   "source": [
    "#### Q12. Implement a recursive function to compute the nth Fibonacci number."
   ]
  },
  {
   "cell_type": "code",
   "execution_count": 13,
   "id": "17848911",
   "metadata": {},
   "outputs": [
    {
     "name": "stdout",
     "output_type": "stream",
     "text": [
      "Enter a positive integer: 10\n",
      "The 10th Fibonacci number is 55\n"
     ]
    }
   ],
   "source": [
    "## Answer 12:\n",
    "\n",
    "def fibonacci(n):\n",
    "    if n <= 0:\n",
    "        return 0\n",
    "    elif n == 1:\n",
    "        return 1\n",
    "    else:\n",
    "        return fibonacci(n - 1) + fibonacci(n - 2)\n",
    "\n",
    "# Test the function\n",
    "num = int(input(\"Enter a positive integer: \"))\n",
    "if num < 0:\n",
    "    print(\"Fibonacci sequence is not defined for negative numbers.\")\n",
    "else:\n",
    "    result = fibonacci(num)\n",
    "    print(f\"The {num}th Fibonacci number is {result}\")\n"
   ]
  },
  {
   "cell_type": "markdown",
   "id": "3d74c22e",
   "metadata": {},
   "source": [
    "#### Q13. Create a recursive function to find the sum of all the elements in a given list."
   ]
  },
  {
   "cell_type": "code",
   "execution_count": 1,
   "id": "ca55e56d",
   "metadata": {},
   "outputs": [
    {
     "name": "stdout",
     "output_type": "stream",
     "text": [
      "Sum of the elements: 15\n"
     ]
    }
   ],
   "source": [
    "## Answer 13:\n",
    "\n",
    "def recursive_sum(lst):\n",
    "    if len(lst) == 0:\n",
    "        return 0\n",
    "    else:\n",
    "        return lst[0] + recursive_sum(lst[1:])\n",
    "\n",
    "# Example usage:\n",
    "my_list = [1, 2, 3, 4, 5]\n",
    "result = recursive_sum(my_list)\n",
    "print(\"Sum of the elements:\", result)\n"
   ]
  },
  {
   "cell_type": "markdown",
   "id": "da2c86ef",
   "metadata": {},
   "source": [
    "#### Q14. Write a recursive function to determine whether a given string is a palindrome."
   ]
  },
  {
   "cell_type": "code",
   "execution_count": null,
   "id": "dfe2b56f",
   "metadata": {},
   "outputs": [],
   "source": [
    "## Answer 14:\n",
    "\n",
    "def is_palindrome(s):\n",
    "    # Base case: an empty string or a string with one character is a palindrome\n",
    "    if len(s) <= 1:\n",
    "        return True\n",
    "    \n",
    "    # Compare the first and last characters, and recursively check the remaining substring\n",
    "    if s[0] == s[-1]:\n",
    "        return is_palindrome(s[1:-1])\n",
    "    else:\n",
    "        return False\n",
    "\n",
    "# Example usage:\n",
    "my_string = \"naman\"\n",
    "result = is_palindrome(my_string)\n",
    "if result:\n",
    "    print(\"The string is a palindrome.\")\n",
    "else:\n",
    "    print(\"The string is not a palindrome.\")\n",
    "\n",
    "    "
   ]
  },
  {
   "cell_type": "markdown",
   "id": "2570530f",
   "metadata": {},
   "source": [
    "#### Q15. Implement a recursive function to find the greatest common divisor (GCD) of two positive integers."
   ]
  },
  {
   "cell_type": "code",
   "execution_count": 9,
   "id": "71595ed7",
   "metadata": {},
   "outputs": [
    {
     "name": "stdout",
     "output_type": "stream",
     "text": [
      "GCD of 48 and 18 is: 6\n"
     ]
    }
   ],
   "source": [
    "## Answer 15\n",
    "\n",
    "def gcd(a, b):\n",
    "    if b == 0:\n",
    "        return a\n",
    "    else:\n",
    "        return gcd(b, a % b)\n",
    "\n",
    "# Example usage:\n",
    "num1 = 48\n",
    "num2 = 18\n",
    "result = gcd(num1, num2)\n",
    "print(\"GCD of\", num1, \"and\", num2, \"is:\", result)\n"
   ]
  },
  {
   "cell_type": "code",
   "execution_count": null,
   "id": "11d42743",
   "metadata": {},
   "outputs": [],
   "source": []
  }
 ],
 "metadata": {
  "kernelspec": {
   "display_name": "Python 3 (ipykernel)",
   "language": "python",
   "name": "python3"
  },
  "language_info": {
   "codemirror_mode": {
    "name": "ipython",
    "version": 3
   },
   "file_extension": ".py",
   "mimetype": "text/x-python",
   "name": "python",
   "nbconvert_exporter": "python",
   "pygments_lexer": "ipython3",
   "version": "3.9.12"
  }
 },
 "nbformat": 4,
 "nbformat_minor": 5
}
