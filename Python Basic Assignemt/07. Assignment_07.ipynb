{
 "cells": [
  {
   "cell_type": "markdown",
   "id": "47c64f99",
   "metadata": {},
   "source": [
    "# Assignment 7 Solutions"
   ]
  },
  {
   "cell_type": "markdown",
   "id": "ecb069bf",
   "metadata": {},
   "source": [
    "**Q.1. Create two int type variables, apply addition, subtraction, division and multiplications\n",
    "and store the results in variables. Then print the data in the following format by calling the\n",
    "variables:**\n",
    "\n",
    "First variable is __ & second variable is __.\n",
    "\n",
    "Addition: __ + __ = __\n",
    "\n",
    "Subtraction: __ - __ = __\n",
    "\n",
    "Multiplication: __ * __ = __\n",
    "\n",
    "Division: __ / __ = __\n",
    "\n",
    "**Answer 1:**"
   ]
  },
  {
   "cell_type": "code",
   "execution_count": 14,
   "id": "9af5bd3a",
   "metadata": {},
   "outputs": [
    {
     "name": "stdout",
     "output_type": "stream",
     "text": [
      "Enter first variable : 8\n",
      "Enter Second variable : 5\n",
      "First variable is 8 & second variable is 5.\n",
      "Addition: 8 + 5 = 13\n",
      "Subtraction: 8 - 5 = 3\n",
      "Multiplication: 8 * 5 = 40\n",
      "Division: 8 / 5 = 1.6\n"
     ]
    }
   ],
   "source": [
    "x = int(input(\"Enter first variable : \"))\n",
    "y = int(input(\"Enter Second variable : \"))\n",
    "\n",
    "add = x + y\n",
    "subt = x - y\n",
    "multi = x * y\n",
    "div = x / y\n",
    "\n",
    "\n",
    "print(f\"First variable is {x} & second variable is {y}.\")\n",
    "print(f\"Addition: {x} + {y} = {add}\")\n",
    "print(f\"Subtraction: {x} - {y} = {subt}\")\n",
    "print(f\"Multiplication: {x} * {y} = {multi}\")\n",
    "print(f\"Division: {x} / {y} = {div}\")"
   ]
  },
  {
   "cell_type": "markdown",
   "id": "993d4fa5",
   "metadata": {},
   "source": [
    "**Q2. What is the difference between the following operators:**\n",
    "\n",
    "(i) `‘/’` & `‘//’`\n",
    "\n",
    "(ii) `‘**’` & `‘^’`"
   ]
  },
  {
   "cell_type": "markdown",
   "id": "3b56ed00",
   "metadata": {},
   "source": [
    "**Answer 2 : (i)** `'/ '` & `'//'`:\n",
    "\n",
    "`'/'`: This is the regular division operator in most programming languages. It performs floating-point division, which means it returns a floating-point result (decimal number) even if the operands are integers. For example, 7 / 2 will give the result 3.5.\n",
    "\n",
    "`'//'`: This is known as the floor division or integer division operator. It performs division and rounds the result down to the nearest whole number, discarding any fractional part. For example, 7 // 2 will give the result 3, as it rounds down the result of the division 3.5 to 3.\n",
    "\n",
    "To summarize, the main difference is that '/' gives a floating-point result, while '//' gives an integer result by rounding down.\n",
    "\n",
    "**(ii)** `'**'` & `'^'`:\n",
    "\n",
    "`'**'`: This is the exponentiation operator in Python and many other programming languages. It is used to raise a number to a power. For example, 2 ** 3 evaluates to 8 (2 raised to the power of 3).\n",
    "\n",
    "`'^'`: In some programming languages, the caret (^) symbol is used as an alternative to the `'**'` operator for exponentiation. However, it's essential to note that the usage of the caret symbol varies among languages, and not all languages use it for exponentiation."
   ]
  },
  {
   "cell_type": "markdown",
   "id": "4e646481",
   "metadata": {},
   "source": [
    "**Q3. List the logical operators**"
   ]
  },
  {
   "cell_type": "markdown",
   "id": "f7efbd19",
   "metadata": {},
   "source": [
    "**Answer 3:** In Python, logical operators are used to perform logical operations on boolean values (True or False). The logical operators in Python are:\n",
    "\n",
    "1. AND (represented by 'and'): It returns True if both operands are True; otherwise, it returns False.\n",
    "\n",
    "2. OR (represented by 'or'): It returns True if at least one of the operands is True; if both operands are False, it returns False.\n",
    "\n",
    "3. NOT (represented by 'not'): It returns the negation of the operand. If the operand is True, 'not' will return False, and vice versa."
   ]
  },
  {
   "cell_type": "code",
   "execution_count": 15,
   "id": "76320f3f",
   "metadata": {},
   "outputs": [
    {
     "name": "stdout",
     "output_type": "stream",
     "text": [
      "AND Result: False\n",
      "OR Result: True\n",
      "NOT Result: False\n"
     ]
    }
   ],
   "source": [
    "## Here's an example code demonstrating the usage of logical operators in Python:\n",
    "\n",
    "# Logical AND\n",
    "x = True\n",
    "y = False\n",
    "result_and = x and y\n",
    "print(f\"AND Result: {result_and}\")  # Output: False\n",
    "\n",
    "# Logical OR\n",
    "x = True\n",
    "y = False\n",
    "result_or = x or y\n",
    "print(f\"OR Result: {result_or}\")    # Output: True\n",
    "\n",
    "# Logical NOT\n",
    "x = True\n",
    "result_not = not x\n",
    "print(f\"NOT Result: {result_not}\")  # Output: False\n"
   ]
  },
  {
   "cell_type": "markdown",
   "id": "55651cdd",
   "metadata": {},
   "source": [
    "**Q4. Explain right shift operator and left shift operator with examples.**"
   ]
  },
  {
   "cell_type": "markdown",
   "id": "e6408278",
   "metadata": {},
   "source": [
    "**Answewr 4 :** In Python, the right shift (>>) and left shift (<<) operators are bitwise operators used to shift the binary representation of an integer's bits to the right or left, respectively. These operators work on individual bits of the integer rather than their numerical values.\n",
    "\n",
    "1. Right Shift (>>):\n",
    "The right shift operator shifts the bits of an integer to the right by a specified number of positions. It effectively divides the integer by 2 raised to the power of the specified number. The rightmost bits are discarded, and the leftmost bits are filled with the sign bit (0 for positive numbers, 1 for negative numbers).\n",
    "\n",
    "Syntax: `number >> n`\n",
    "\n",
    "2. Left Shift (<<):\n",
    "The left shift operator shifts the bits of an integer to the left by a specified number of positions. It effectively multiplies the integer by 2 raised to the power of the specified number. The leftmost bits that are shifted out are lost, and the rightmost bits are filled with 0.\n",
    "\n",
    "Syntax: `number << n`"
   ]
  },
  {
   "cell_type": "code",
   "execution_count": 16,
   "id": "3ea57fd9",
   "metadata": {},
   "outputs": [
    {
     "name": "stdout",
     "output_type": "stream",
     "text": [
      "Binary representation of 16: 0b10000\n",
      "Result of 16 >> 2 is: 4 & Binary representation: 0b100\n"
     ]
    }
   ],
   "source": [
    "# Right shift example\n",
    "x = 16  # Binary representation: 0b10000\n",
    "print(f\"Binary representation of 16: {bin(x)}\")\n",
    "n = 2\n",
    "result = x >> n\n",
    "print(f\"Result of {x} >> {n} is: {result} & Binary representation: {bin(result)}\")  # Output: 4 (Binary representation: 0b100)\n",
    "\n",
    "\n",
    "## In the above example, we right-shifted the binary representation of the integer `x` by 2 positions, \n",
    "## which effectively divides it by 2 raised to the power of 2, resulting in `4`."
   ]
  },
  {
   "cell_type": "code",
   "execution_count": 17,
   "id": "ecff4f0a",
   "metadata": {},
   "outputs": [
    {
     "name": "stdout",
     "output_type": "stream",
     "text": [
      "Binary representation of 5: 0b101\n",
      "Result of 5 << 3 is: 40 & Binary representation: 0b101000\n"
     ]
    }
   ],
   "source": [
    "# Left shift example\n",
    "x = 5  # Binary representation: 0b101\n",
    "print(f\"Binary representation of 5: {bin(x)}\")\n",
    "n = 3\n",
    "result = x << n\n",
    "print(f\"Result of {x} << {n} is: {result} & Binary representation: {bin(result)}\")  # Output: 40 (Binary representation: 0b101000)\n",
    "\n",
    "## In the above example, we left-shifted the binary representation of the integer `x` by 3 positions, \n",
    "## which effectively multiplies it by 2 raised to the power of 3, resulting in `40`."
   ]
  },
  {
   "cell_type": "markdown",
   "id": "e900fdbb",
   "metadata": {},
   "source": [
    "**Q5. Create a list containing int type data of length 15. Then write a code to check if 10 is\n",
    "present in the list or not.**"
   ]
  },
  {
   "cell_type": "code",
   "execution_count": 18,
   "id": "dd468e61",
   "metadata": {},
   "outputs": [
    {
     "name": "stdout",
     "output_type": "stream",
     "text": [
      "10 is present in the list.\n"
     ]
    }
   ],
   "source": [
    "# Create a list of integers\n",
    "integer_list = [5, 7, 10, 15, 20, 25, 30, 35, 40, 45, 50, 55, 60, 65, 70]\n",
    "\n",
    "# Check if 10 is present in the list\n",
    "if 10 in integer_list:\n",
    "    print(\"10 is present in the list.\")\n",
    "else:\n",
    "    print(\"10 is not present in the list.\")"
   ]
  },
  {
   "cell_type": "code",
   "execution_count": null,
   "id": "6e99f4c9",
   "metadata": {},
   "outputs": [],
   "source": []
  }
 ],
 "metadata": {
  "kernelspec": {
   "display_name": "Python 3 (ipykernel)",
   "language": "python",
   "name": "python3"
  },
  "language_info": {
   "codemirror_mode": {
    "name": "ipython",
    "version": 3
   },
   "file_extension": ".py",
   "mimetype": "text/x-python",
   "name": "python",
   "nbconvert_exporter": "python",
   "pygments_lexer": "ipython3",
   "version": "3.9.12"
  }
 },
 "nbformat": 4,
 "nbformat_minor": 5
}
