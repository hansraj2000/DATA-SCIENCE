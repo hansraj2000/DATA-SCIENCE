{
 "cells": [
  {
   "cell_type": "markdown",
   "id": "dac5caff",
   "metadata": {},
   "source": [
    "# Assignment 1 Solution"
   ]
  },
  {
   "cell_type": "markdown",
   "id": "4f489fcc",
   "metadata": {},
   "source": [
    "#### Q1. In the below elements which of them are values or an expression? eg:- values can be integer or string and expressions will be mathematical operators.*\n",
    "`*` , `hello` , `-87.8` , `-` , `/` , `+` , `6` \n",
    "\n",
    "**Answer :-** There are 3 values and 4 expressions\n",
    "\n",
    "**values :-** `hello` , `-87.8` , `6`.\n",
    "\n",
    "**Expressions :-** `*` , `-` , `/` , `+`."
   ]
  },
  {
   "cell_type": "markdown",
   "id": "0cdc5a20",
   "metadata": {},
   "source": [
    " #### Q2. What is the difference between string and variable?\n",
    " \n",
    " **Answer :-** String is group of characters or a single character enclosed in double qoutes(\" \") or single qoutes(' '). Variables are used to store data of any type like int, string, float, list,etc."
   ]
  },
  {
   "cell_type": "markdown",
   "id": "4c42501f",
   "metadata": {},
   "source": [
    "#### Q3. Describe three different data types.\n",
    "\n",
    "**Answer :-** There are fundamental data types are `int` , `float` , `string`.   \n",
    "\n",
    "**1. int :-** This data type used to store numbers without a fractional component (-707, 070, 555).\n",
    "\n",
    "**2. float :-** This data type used to store numbers that may have a fractional component like monetary values do (0.10, 0.01, 110.00).    \n",
    "\n",
    "**3. string :-** This data type is used to store a single letter, sentences , punctuation mark, symbol, or blank space."
   ]
  },
  {
   "cell_type": "markdown",
   "id": "afc6ce4d",
   "metadata": {},
   "source": [
    "#### Q4. What is an expression made up of? What do all expressions do?\n",
    "\n",
    "**Ans:** An expression is a combination of values, variables, operators, and calls to functions. Expressions need to be evaluated. If we ask Python to print an expression, the interpreter evaluates the expression and displays the result."
   ]
  },
  {
   "cell_type": "code",
   "execution_count": 1,
   "id": "001f28f9",
   "metadata": {},
   "outputs": [
    {
     "data": {
      "text/plain": [
       "0.0"
      ]
     },
     "execution_count": 1,
     "metadata": {},
     "output_type": "execute_result"
    }
   ],
   "source": [
    "3*10+40-140/2  # It is an expression. The Python Interpreter Evaluates it to 0.0"
   ]
  },
  {
   "cell_type": "markdown",
   "id": "e7b20681",
   "metadata": {},
   "source": [
    "#### Q5. This assignment statements, like spam = 10. What is the difference between an expression and a statement?\n",
    "\n",
    "**Ans:** An expression is any word or group of words or symbols that is a value. In programming, an expression is a value, or anything that executes and ends up being a value.\n",
    "\n",
    "**eg:** 4*5+20-40 is an example of an expression\n",
    "\n",
    "A statement is a group of expressions and/or statements that you design to carry out a task or an action. A statement is a unit of code that has an effect, like creating a variable or displaying a value.When we type a statement, the interpreter executes it, which means that it does whatever the statement says. In general, statements don’t have values.\n",
    "\n",
    "**eg:** variable declaration and assignment are statements because they do not return a value"
   ]
  },
  {
   "cell_type": "code",
   "execution_count": 2,
   "id": "567611f0",
   "metadata": {},
   "outputs": [
    {
     "name": "stdout",
     "output_type": "stream",
     "text": [
      "Hello World !\n"
     ]
    }
   ],
   "source": [
    "#Example:\n",
    "4*5+20-40 # Is a Expression\n",
    "courseName = 'INeuron FullStack DataScience' # Is a Statement\n",
    "print(\"Hello World !\") # Is a Expression Statement"
   ]
  },
  {
   "cell_type": "markdown",
   "id": "e0c46673",
   "metadata": {},
   "source": [
    "#### Q6. After running the following code, what does the variable bacon contain?\n",
    "`bacon = 22`\n",
    "\n",
    "`bacon + 1`\n",
    "\n",
    "**Ans :-** The variable **bacon** is set to `22` .The expression **bacon + 1** does not reassign the value in\n",
    "bacon (that would the case if the expression is like **bacon = bacon + 1** instead of **bacon + 1**). So, The value of **bacon** will remain same after execution of this expression."
   ]
  },
  {
   "cell_type": "code",
   "execution_count": 3,
   "id": "ee31c6b9",
   "metadata": {},
   "outputs": [
    {
     "name": "stdout",
     "output_type": "stream",
     "text": [
      "22\n"
     ]
    }
   ],
   "source": [
    "bacon = 22\n",
    "bacon+1\n",
    "print(bacon)"
   ]
  },
  {
   "cell_type": "code",
   "execution_count": 4,
   "id": "4dd44178",
   "metadata": {},
   "outputs": [
    {
     "name": "stdout",
     "output_type": "stream",
     "text": [
      "23\n"
     ]
    }
   ],
   "source": [
    "bacon = 22\n",
    "bacon += 1   # bacon = bacon + 1\n",
    "print(bacon)"
   ]
  },
  {
   "cell_type": "markdown",
   "id": "0f1cc6ee",
   "metadata": {},
   "source": [
    "#### Q7. What should the values of the following two terms be?\n",
    "`'spam' + 'spamspam'`\n",
    "\n",
    "`'spam'* 3`"
   ]
  },
  {
   "cell_type": "code",
   "execution_count": 5,
   "id": "c8aac46d",
   "metadata": {},
   "outputs": [
    {
     "name": "stdout",
     "output_type": "stream",
     "text": [
      "spamspamspam\n"
     ]
    }
   ],
   "source": [
    "print('spam'+'spamspam') # string concatenation"
   ]
  },
  {
   "cell_type": "code",
   "execution_count": 6,
   "id": "4dfc9353",
   "metadata": {},
   "outputs": [
    {
     "name": "stdout",
     "output_type": "stream",
     "text": [
      "spamspamspam\n"
     ]
    }
   ],
   "source": [
    "print('spam'*3) # string multipication"
   ]
  },
  {
   "cell_type": "markdown",
   "id": "e2140c7a",
   "metadata": {},
   "source": [
    "#### Q8. Why is eggs a valid variable name while 100 is invalid?\n",
    "\n",
    "**Ans:** As per python,Variable names cannot begin with a number. The python rules for naming a variable are :- \n",
    "1. Variable name must start with a letter or the underscore character.\n",
    "2. Variable name cannot start with a number.\n",
    "3. Variable name can only contain alpha-numeric characters and underscores (A-z, 0-9, & _ ).\n",
    "4. Variable names are case-sensitive (name, `HANSRAJ` and `hansraj` are three different variables).\n",
    "5. The reserved words(keywords) cannot be used naming the variable."
   ]
  },
  {
   "cell_type": "code",
   "execution_count": 7,
   "id": "749b675d",
   "metadata": {},
   "outputs": [
    {
     "ename": "SyntaxError",
     "evalue": "cannot assign to literal (4227372633.py, line 2)",
     "output_type": "error",
     "traceback": [
      "\u001b[1;36m  Input \u001b[1;32mIn [7]\u001b[1;36m\u001b[0m\n\u001b[1;33m    100='hello world' # Invalid Variable Initilization\u001b[0m\n\u001b[1;37m    ^\u001b[0m\n\u001b[1;31mSyntaxError\u001b[0m\u001b[1;31m:\u001b[0m cannot assign to literal\n"
     ]
    }
   ],
   "source": [
    "egg='Study' # Valid variable Initilization\n",
    "100='hello world' # Invalid Variable Initilization\n",
    "print(egg) #prints the value of egg ie Ineuron\n",
    "print(100) # Raises a Syntax Error as 100 is not a valid variable name"
   ]
  },
  {
   "cell_type": "markdown",
   "id": "fe18dbca",
   "metadata": {},
   "source": [
    "#### Q9. What three functions can be used to get the integer, floating-point number, or string version of a value?\n",
    "**Ans:** The `int()`,`float()`,and `str()` functions will evaluate to the integer,floating-point number,string version of the value passed to them.\n"
   ]
  },
  {
   "cell_type": "code",
   "execution_count": 8,
   "id": "dc737eb3",
   "metadata": {},
   "outputs": [
    {
     "name": "stdout",
     "output_type": "stream",
     "text": [
      "int(10.0) ->  10\n",
      "float(10) ->  10.0\n",
      "str(10) ->  10\n"
     ]
    }
   ],
   "source": [
    "# Examples:\n",
    "print('int(10.0) -> ',int(10.0)) # int() function converts given input to int\n",
    "print('float(10) -> ',float(10)) # float() function converts given input to float\n",
    "print('str(10) -> ',str(10)) # str() function converts given input to string"
   ]
  },
  {
   "cell_type": "markdown",
   "id": "21871cf5",
   "metadata": {},
   "source": [
    "#### 10.Why does this expression cause an error? how can you fix it?  \n",
    "`'I have eaten ' + 99 + 'burritos.'`\n",
    "\n",
    "**Ans:** This cause of error is 99.because 99 is not a string. 99 must be typecasted to a string to fix this error. the correct way is:  \n",
    "**Input:** `'I have eaten ' + str(99) + 'burritos.'`  \n",
    "**Output:** `'I have eaten 99 burritos.'`"
   ]
  },
  {
   "cell_type": "code",
   "execution_count": 9,
   "id": "f8d28f3e",
   "metadata": {},
   "outputs": [
    {
     "name": "stdout",
     "output_type": "stream",
     "text": [
      "I have eaten 99 burritos\n"
     ]
    }
   ],
   "source": [
    "# The correct way to write this expression statement\n",
    "print('I have eaten '+str(99)+' burritos')"
   ]
  },
  {
   "cell_type": "code",
   "execution_count": null,
   "id": "ee3a9787",
   "metadata": {},
   "outputs": [],
   "source": []
  },
  {
   "cell_type": "code",
   "execution_count": null,
   "id": "bb2c8ad5",
   "metadata": {},
   "outputs": [],
   "source": []
  }
 ],
 "metadata": {
  "kernelspec": {
   "display_name": "Python 3 (ipykernel)",
   "language": "python",
   "name": "python3"
  },
  "language_info": {
   "codemirror_mode": {
    "name": "ipython",
    "version": 3
   },
   "file_extension": ".py",
   "mimetype": "text/x-python",
   "name": "python",
   "nbconvert_exporter": "python",
   "pygments_lexer": "ipython3",
   "version": "3.9.12"
  }
 },
 "nbformat": 4,
 "nbformat_minor": 5
}
