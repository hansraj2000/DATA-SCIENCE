{
 "cells": [
  {
   "cell_type": "markdown",
   "id": "a2bd2873",
   "metadata": {},
   "source": [
    "# Assignment 4 Solution"
   ]
  },
  {
   "cell_type": "markdown",
   "id": "11582eb1",
   "metadata": {},
   "source": [
    "**Q1.What exactly is `[ ]`?**\n",
    "\n",
    "**Answer :-** The empty list represented by `[]` is a list that contains no items. This is similar to `''` which represents an empty string"
   ]
  },
  {
   "cell_type": "markdown",
   "id": "e3da0b40",
   "metadata": {},
   "source": [
    "**Q2.In a list of values stored in a variable called spam, how would you assign the value 'hello' as the third value? (Assume [2, 4, 6, 8, 10] are in spam.)** \n",
    "\n",
    "**Answer :-** `spam[2]='hello'` (Note: Lists follows zero based indexing)"
   ]
  },
  {
   "cell_type": "code",
   "execution_count": 1,
   "id": "9bcd1d37",
   "metadata": {},
   "outputs": [
    {
     "name": "stdout",
     "output_type": "stream",
     "text": [
      "[2, 4, 6, 8, 10]\n",
      "[2, 4, 'hello', 8, 10]\n"
     ]
    }
   ],
   "source": [
    "# Example\n",
    "spam=[2,4,6,8,10]\n",
    "print(spam)\n",
    "spam[2]='hello' #List uses zero based indexing\n",
    "print(spam)"
   ]
  },
  {
   "cell_type": "markdown",
   "id": "6589e109",
   "metadata": {},
   "source": [
    "### Let&#39;s pretend the spam includes the list [&#39;a&#39;, &#39;b&#39;, &#39;c&#39;, &#39;d&#39;] for the next three queries."
   ]
  },
  {
   "cell_type": "markdown",
   "id": "0b427da7",
   "metadata": {},
   "source": [
    "**Q3. What is the value of `spam[int(int('3' * 2) / 11)]`?**\n",
    "\n",
    "**Answer :-** `'d'` (Note that '3' * 2 is the string '33', which is passed to int() before being divided by 11.\n",
    "     This eventually evaluates to 3, `spam[3]` is equal to `d`.)"
   ]
  },
  {
   "cell_type": "code",
   "execution_count": 2,
   "id": "01e30c96",
   "metadata": {},
   "outputs": [
    {
     "name": "stdout",
     "output_type": "stream",
     "text": [
      "spam[int(int('3'*2)//11)] -> d\n"
     ]
    }
   ],
   "source": [
    "spam=['a','b','c','d']\n",
    "print(\"spam[int(int('3'*2)//11)] ->\",spam[int(int('3'*2)//11)])"
   ]
  },
  {
   "cell_type": "markdown",
   "id": "f8c5f9a0",
   "metadata": {},
   "source": [
    "**Q4. What is the value of spam[-1]?**\n",
    "\n",
    "**Answer :-** `'d'` (Lists support Negative indexing, Hence `spam[-1]` returs `'d'`)"
   ]
  },
  {
   "cell_type": "code",
   "execution_count": 4,
   "id": "630bc6b5",
   "metadata": {},
   "outputs": [
    {
     "name": "stdout",
     "output_type": "stream",
     "text": [
      "spam[-1] ->  d\n"
     ]
    }
   ],
   "source": [
    "spam=['a','b','c','d']\n",
    "print('spam[-1] -> ',spam[-1])"
   ]
  },
  {
   "cell_type": "markdown",
   "id": "86dbaa1d",
   "metadata": {},
   "source": [
    "**Q5. What is the value of spam[:2]?**\n",
    "\n",
    "**Answer :-** `spam[:2]` returns all elements in the list spam from 0 to 2 excluding 2"
   ]
  },
  {
   "cell_type": "code",
   "execution_count": 5,
   "id": "312ee023",
   "metadata": {},
   "outputs": [
    {
     "name": "stdout",
     "output_type": "stream",
     "text": [
      "['a', 'b', 'c', 'd']\n",
      "['a', 'b']\n"
     ]
    }
   ],
   "source": [
    "print(spam)\n",
    "print(spam[:2])"
   ]
  },
  {
   "cell_type": "markdown",
   "id": "c283ee74",
   "metadata": {},
   "source": [
    "### Let's pretend bacon has the list [3.14,'cat',11,'cat',True] for the next three questions."
   ]
  },
  {
   "cell_type": "markdown",
   "id": "cd9db3a9",
   "metadata": {},
   "source": [
    "**Q6. What is the value of bacon.index('cat')?**\n",
    "\n",
    "**Answer :-**The value of bacon.index('cat') is 1 (Note: index method returns the index of first occuerence of 'cat')\n"
   ]
  },
  {
   "cell_type": "code",
   "execution_count": 1,
   "id": "9df4f83a",
   "metadata": {},
   "outputs": [
    {
     "name": "stdout",
     "output_type": "stream",
     "text": [
      "bacon.index('cat') -> 1\n"
     ]
    }
   ],
   "source": [
    "bacon=[3.14,'cat',11,'cat',True]\n",
    "print(\"bacon.index('cat') ->\",bacon.index('cat'))"
   ]
  },
  {
   "cell_type": "markdown",
   "id": "0c449271",
   "metadata": {},
   "source": [
    "**Q7. How does bacon.append(99) change the look of the list value in bacon?**\n",
    "\n",
    "**Answer :-**  The `append` method adds new elements to the end of the list."
   ]
  },
  {
   "cell_type": "code",
   "execution_count": 2,
   "id": "a0cb789b",
   "metadata": {},
   "outputs": [
    {
     "name": "stdout",
     "output_type": "stream",
     "text": [
      "[3.14, 'cat', 11, 'cat', True]\n",
      "[3.14, 'cat', 11, 'cat', True, 99]\n"
     ]
    }
   ],
   "source": [
    "# Example\n",
    "print(bacon)\n",
    "bacon.append(99) # appends 99 to the end of the list\n",
    "print(bacon)"
   ]
  },
  {
   "cell_type": "markdown",
   "id": "d78c865f",
   "metadata": {},
   "source": [
    "**Q8. How does bacon.remove('cat') change the look of the list in bacon?**\n",
    "\n",
    "**Answer :-** The `remove` method removes the first occurence of the element in the list"
   ]
  },
  {
   "cell_type": "code",
   "execution_count": 3,
   "id": "bfbbda04",
   "metadata": {},
   "outputs": [
    {
     "name": "stdout",
     "output_type": "stream",
     "text": [
      "[3.14, 'cat', 11, 'cat', True, 99]\n",
      "[3.14, 11, 'cat', True, 99]\n"
     ]
    }
   ],
   "source": [
    "print(bacon)\n",
    "bacon.remove('cat')\n",
    "print(bacon)"
   ]
  },
  {
   "cell_type": "markdown",
   "id": "8b30831c",
   "metadata": {},
   "source": [
    "**Q9.what are the list concatenation and list replication operations?**\n",
    "\n",
    "**Answer :-** The operator for list concatenation is `+`, while the operator for replication is `*`. (This is the same as for strings.)"
   ]
  },
  {
   "cell_type": "code",
   "execution_count": 6,
   "id": "02b621a6",
   "metadata": {},
   "outputs": [
    {
     "name": "stdout",
     "output_type": "stream",
     "text": [
      "['ML', 'DL', 'AI', 'CV', 'NLP', 'RNN', 'CNN', 'SVN']\n",
      "['RNN', 'CNN', 'SVN', 'RNN', 'CNN', 'SVN']\n"
     ]
    }
   ],
   "source": [
    "# Example\n",
    "list_1 = ['ML','DL','AI','CV','NLP']\n",
    "list_2 = ['RNN','CNN','SVN']\n",
    "print(list_1 + list_2) # List Concatenation\n",
    "print(list_2*2) # List Replication"
   ]
  },
  {
   "cell_type": "markdown",
   "id": "49a2bf98",
   "metadata": {},
   "source": [
    "**Q10.what is the difference between the list method append() and insert()?**\n",
    "\n",
    "**Answer :-** While append() will add values only to the end of a list, insert() can add them anywhere in the list."
   ]
  },
  {
   "cell_type": "code",
   "execution_count": 7,
   "id": "5afcf93f",
   "metadata": {},
   "outputs": [
    {
     "name": "stdout",
     "output_type": "stream",
     "text": [
      "[1, 2, 3, 4, 5, 6]\n",
      "[1, 2, 'Demo', 3, 4, 5, 6]\n"
     ]
    }
   ],
   "source": [
    "#Examples\n",
    "list = [1,2,3,4,5]\n",
    "list.append(6)\n",
    "print(list)\n",
    "list.insert(2,'Demo')\n",
    "print(list)"
   ]
  },
  {
   "cell_type": "markdown",
   "id": "f17384a7",
   "metadata": {},
   "source": [
    "**Q11. What are the two methods for removing items from a list?**\n",
    "\n",
    "**Answer :-** The `del` statement and the `remove()` method are two ways to remove values from a list."
   ]
  },
  {
   "cell_type": "code",
   "execution_count": 8,
   "id": "9ee400e4",
   "metadata": {},
   "outputs": [
    {
     "name": "stdout",
     "output_type": "stream",
     "text": [
      "List before calling remove function:\n",
      "[1, 4, 6, 2, 6, 1]\n",
      "List after calling remove function:\n",
      "[1, 4, 2, 6, 1]\n",
      "List before calling del:\n",
      "[1, 4, 2, 6, 1]\n",
      "List after calling del:\n",
      "[1, 4, 2, 1]\n"
     ]
    }
   ],
   "source": [
    "l = [1, 4, 6, 2, 6, 1]\n",
    "## using remove method\n",
    "print(\"List before calling remove function:\")\n",
    "print(l)\n",
    "\n",
    "l.remove(6)\n",
    "\n",
    "print(\"List after calling remove function:\")\n",
    "print(l)\n",
    "\n",
    "## Using Del method\n",
    "print(\"List before calling del:\")\n",
    "print(l)\n",
    "\n",
    "del l[3]\n",
    "\n",
    "print(\"List after calling del:\")\n",
    "print(l)"
   ]
  },
  {
   "cell_type": "markdown",
   "id": "310f2d54",
   "metadata": {},
   "source": [
    "#### Q12. Describe how list values and string values are identical.\n",
    "**Answer:-** Both lists and strings can be passed to `len()` function, have indexes and slices, be used in `for` loops, be concatenated or replicated, and be used with the `in` and `not in` operators."
   ]
  },
  {
   "cell_type": "markdown",
   "id": "3f35b99e",
   "metadata": {},
   "source": [
    "#### Q13. What's the difference between tuples and lists?\n",
    "**Answer:-** Lists are `Mutable`, `Indexable` and `Slicable`. they can have values added, removed, or changed. Tuples are `Immutable` but `Indexable` and `Slicable`. the tuple values cannot be changed at all. Also, tuples are represented using parentheses, `()`, while lists use the square brackets, `[]`."
   ]
  },
  {
   "cell_type": "markdown",
   "id": "b5f7fe59",
   "metadata": {},
   "source": [
    "#### Q14. How do you type a tuple value that only contains the integer 42?\n",
    "**Answer:-** (42,) (The trailing comma is mandatory. otherwise its considered as a int by python Interpreter)"
   ]
  },
  {
   "cell_type": "code",
   "execution_count": 9,
   "id": "df2da8ed",
   "metadata": {},
   "outputs": [
    {
     "name": "stdout",
     "output_type": "stream",
     "text": [
      "<class 'int'>\n",
      "<class 'tuple'>\n"
     ]
    }
   ],
   "source": [
    "tup1=(42)\n",
    "tup2=(42,)\n",
    "print(type(tup1))\n",
    "print(type(tup2))"
   ]
  },
  {
   "cell_type": "markdown",
   "id": "3de170a9",
   "metadata": {},
   "source": [
    "#### Q15. How do you get a list value's tuple form? How do you get a tuple value's list form?\n",
    "**Answer:-** The tuple() and list() functions, respectively are used to convert a list to tuple and vice versa"
   ]
  },
  {
   "cell_type": "markdown",
   "id": "9f560783",
   "metadata": {},
   "source": [
    "#### Q16. Variables that &quot;contain&quot; list values are not necessarily lists themselves. Instead, what do they contain?\n",
    "**Answer:-** They contain references to list values."
   ]
  },
  {
   "cell_type": "markdown",
   "id": "8d278f21",
   "metadata": {},
   "source": [
    "#### Q17. How do you distinguish between copy.copy() and copy.deepcopy()?\n",
    "**Answer:-** The `copy.copy()` function will do a shallow copy of a list, while the `copy.deepcopy()` function will do a deep copy of a list. That is, only `copy.deepcopy()` will duplicate any lists inside the list."
   ]
  },
  {
   "cell_type": "code",
   "execution_count": null,
   "id": "7b5af448",
   "metadata": {},
   "outputs": [],
   "source": []
  }
 ],
 "metadata": {
  "kernelspec": {
   "display_name": "Python 3 (ipykernel)",
   "language": "python",
   "name": "python3"
  },
  "language_info": {
   "codemirror_mode": {
    "name": "ipython",
    "version": 3
   },
   "file_extension": ".py",
   "mimetype": "text/x-python",
   "name": "python",
   "nbconvert_exporter": "python",
   "pygments_lexer": "ipython3",
   "version": "3.9.12"
  }
 },
 "nbformat": 4,
 "nbformat_minor": 5
}
